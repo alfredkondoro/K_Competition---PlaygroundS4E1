{
 "cells": [
  {
   "cell_type": "code",
   "execution_count": 1,
   "id": "c90297d4",
   "metadata": {
    "execution": {
     "iopub.execute_input": "2024-01-27T18:08:43.846800Z",
     "iopub.status.busy": "2024-01-27T18:08:43.846390Z",
     "iopub.status.idle": "2024-01-27T18:08:44.296329Z",
     "shell.execute_reply": "2024-01-27T18:08:44.294853Z"
    },
    "papermill": {
     "duration": 0.465027,
     "end_time": "2024-01-27T18:08:44.299268",
     "exception": false,
     "start_time": "2024-01-27T18:08:43.834241",
     "status": "completed"
    },
    "tags": []
   },
   "outputs": [],
   "source": [
    "import pandas as pd\n",
    "import numpy as np\n",
    "import matplotlib.pyplot as plt"
   ]
  },
  {
   "cell_type": "code",
   "execution_count": 2,
   "id": "1fe0d363",
   "metadata": {
    "execution": {
     "iopub.execute_input": "2024-01-27T18:08:44.321755Z",
     "iopub.status.busy": "2024-01-27T18:08:44.321219Z",
     "iopub.status.idle": "2024-01-27T18:08:45.159633Z",
     "shell.execute_reply": "2024-01-27T18:08:45.158520Z"
    },
    "papermill": {
     "duration": 0.853127,
     "end_time": "2024-01-27T18:08:45.162684",
     "exception": false,
     "start_time": "2024-01-27T18:08:44.309557",
     "status": "completed"
    },
    "tags": []
   },
   "outputs": [],
   "source": [
    "traindf = pd.read_csv(\"/kaggle/input/playground-series-s4e1/train.csv\")\n",
    "testdf = pd.read_csv(\"/kaggle/input/playground-series-s4e1/test.csv\")\n",
    "sampledf = pd.read_csv(\"/kaggle/input/playground-series-s4e1/sample_submission.csv\")"
   ]
  },
  {
   "cell_type": "code",
   "execution_count": 3,
   "id": "e77960e8",
   "metadata": {
    "execution": {
     "iopub.execute_input": "2024-01-27T18:08:45.184292Z",
     "iopub.status.busy": "2024-01-27T18:08:45.183874Z",
     "iopub.status.idle": "2024-01-27T18:08:45.219735Z",
     "shell.execute_reply": "2024-01-27T18:08:45.218518Z"
    },
    "papermill": {
     "duration": 0.050033,
     "end_time": "2024-01-27T18:08:45.222608",
     "exception": false,
     "start_time": "2024-01-27T18:08:45.172575",
     "status": "completed"
    },
    "tags": []
   },
   "outputs": [
    {
     "data": {
      "text/html": [
       "<div>\n",
       "<style scoped>\n",
       "    .dataframe tbody tr th:only-of-type {\n",
       "        vertical-align: middle;\n",
       "    }\n",
       "\n",
       "    .dataframe tbody tr th {\n",
       "        vertical-align: top;\n",
       "    }\n",
       "\n",
       "    .dataframe thead th {\n",
       "        text-align: right;\n",
       "    }\n",
       "</style>\n",
       "<table border=\"1\" class=\"dataframe\">\n",
       "  <thead>\n",
       "    <tr style=\"text-align: right;\">\n",
       "      <th></th>\n",
       "      <th>id</th>\n",
       "      <th>CustomerId</th>\n",
       "      <th>Surname</th>\n",
       "      <th>CreditScore</th>\n",
       "      <th>Geography</th>\n",
       "      <th>Gender</th>\n",
       "      <th>Age</th>\n",
       "      <th>Tenure</th>\n",
       "      <th>Balance</th>\n",
       "      <th>NumOfProducts</th>\n",
       "      <th>HasCrCard</th>\n",
       "      <th>IsActiveMember</th>\n",
       "      <th>EstimatedSalary</th>\n",
       "      <th>Exited</th>\n",
       "    </tr>\n",
       "  </thead>\n",
       "  <tbody>\n",
       "    <tr>\n",
       "      <th>0</th>\n",
       "      <td>0</td>\n",
       "      <td>15674932</td>\n",
       "      <td>Okwudilichukwu</td>\n",
       "      <td>668</td>\n",
       "      <td>France</td>\n",
       "      <td>Male</td>\n",
       "      <td>33.0</td>\n",
       "      <td>3</td>\n",
       "      <td>0.00</td>\n",
       "      <td>2</td>\n",
       "      <td>1.0</td>\n",
       "      <td>0.0</td>\n",
       "      <td>181449.97</td>\n",
       "      <td>0</td>\n",
       "    </tr>\n",
       "    <tr>\n",
       "      <th>1</th>\n",
       "      <td>1</td>\n",
       "      <td>15749177</td>\n",
       "      <td>Okwudiliolisa</td>\n",
       "      <td>627</td>\n",
       "      <td>France</td>\n",
       "      <td>Male</td>\n",
       "      <td>33.0</td>\n",
       "      <td>1</td>\n",
       "      <td>0.00</td>\n",
       "      <td>2</td>\n",
       "      <td>1.0</td>\n",
       "      <td>1.0</td>\n",
       "      <td>49503.50</td>\n",
       "      <td>0</td>\n",
       "    </tr>\n",
       "    <tr>\n",
       "      <th>2</th>\n",
       "      <td>2</td>\n",
       "      <td>15694510</td>\n",
       "      <td>Hsueh</td>\n",
       "      <td>678</td>\n",
       "      <td>France</td>\n",
       "      <td>Male</td>\n",
       "      <td>40.0</td>\n",
       "      <td>10</td>\n",
       "      <td>0.00</td>\n",
       "      <td>2</td>\n",
       "      <td>1.0</td>\n",
       "      <td>0.0</td>\n",
       "      <td>184866.69</td>\n",
       "      <td>0</td>\n",
       "    </tr>\n",
       "    <tr>\n",
       "      <th>3</th>\n",
       "      <td>3</td>\n",
       "      <td>15741417</td>\n",
       "      <td>Kao</td>\n",
       "      <td>581</td>\n",
       "      <td>France</td>\n",
       "      <td>Male</td>\n",
       "      <td>34.0</td>\n",
       "      <td>2</td>\n",
       "      <td>148882.54</td>\n",
       "      <td>1</td>\n",
       "      <td>1.0</td>\n",
       "      <td>1.0</td>\n",
       "      <td>84560.88</td>\n",
       "      <td>0</td>\n",
       "    </tr>\n",
       "    <tr>\n",
       "      <th>4</th>\n",
       "      <td>4</td>\n",
       "      <td>15766172</td>\n",
       "      <td>Chiemenam</td>\n",
       "      <td>716</td>\n",
       "      <td>Spain</td>\n",
       "      <td>Male</td>\n",
       "      <td>33.0</td>\n",
       "      <td>5</td>\n",
       "      <td>0.00</td>\n",
       "      <td>2</td>\n",
       "      <td>1.0</td>\n",
       "      <td>1.0</td>\n",
       "      <td>15068.83</td>\n",
       "      <td>0</td>\n",
       "    </tr>\n",
       "  </tbody>\n",
       "</table>\n",
       "</div>"
      ],
      "text/plain": [
       "   id  CustomerId         Surname  CreditScore Geography Gender   Age  Tenure  \\\n",
       "0   0    15674932  Okwudilichukwu          668    France   Male  33.0       3   \n",
       "1   1    15749177   Okwudiliolisa          627    France   Male  33.0       1   \n",
       "2   2    15694510           Hsueh          678    France   Male  40.0      10   \n",
       "3   3    15741417             Kao          581    France   Male  34.0       2   \n",
       "4   4    15766172       Chiemenam          716     Spain   Male  33.0       5   \n",
       "\n",
       "     Balance  NumOfProducts  HasCrCard  IsActiveMember  EstimatedSalary  \\\n",
       "0       0.00              2        1.0             0.0        181449.97   \n",
       "1       0.00              2        1.0             1.0         49503.50   \n",
       "2       0.00              2        1.0             0.0        184866.69   \n",
       "3  148882.54              1        1.0             1.0         84560.88   \n",
       "4       0.00              2        1.0             1.0         15068.83   \n",
       "\n",
       "   Exited  \n",
       "0       0  \n",
       "1       0  \n",
       "2       0  \n",
       "3       0  \n",
       "4       0  "
      ]
     },
     "execution_count": 3,
     "metadata": {},
     "output_type": "execute_result"
    }
   ],
   "source": [
    "traindf.head(5)"
   ]
  },
  {
   "cell_type": "code",
   "execution_count": 4,
   "id": "e84925f6",
   "metadata": {
    "execution": {
     "iopub.execute_input": "2024-01-27T18:08:45.245218Z",
     "iopub.status.busy": "2024-01-27T18:08:45.244696Z",
     "iopub.status.idle": "2024-01-27T18:08:45.266383Z",
     "shell.execute_reply": "2024-01-27T18:08:45.265140Z"
    },
    "papermill": {
     "duration": 0.036303,
     "end_time": "2024-01-27T18:08:45.269076",
     "exception": false,
     "start_time": "2024-01-27T18:08:45.232773",
     "status": "completed"
    },
    "tags": []
   },
   "outputs": [
    {
     "data": {
      "text/html": [
       "<div>\n",
       "<style scoped>\n",
       "    .dataframe tbody tr th:only-of-type {\n",
       "        vertical-align: middle;\n",
       "    }\n",
       "\n",
       "    .dataframe tbody tr th {\n",
       "        vertical-align: top;\n",
       "    }\n",
       "\n",
       "    .dataframe thead th {\n",
       "        text-align: right;\n",
       "    }\n",
       "</style>\n",
       "<table border=\"1\" class=\"dataframe\">\n",
       "  <thead>\n",
       "    <tr style=\"text-align: right;\">\n",
       "      <th></th>\n",
       "      <th>id</th>\n",
       "      <th>CustomerId</th>\n",
       "      <th>Surname</th>\n",
       "      <th>CreditScore</th>\n",
       "      <th>Geography</th>\n",
       "      <th>Gender</th>\n",
       "      <th>Age</th>\n",
       "      <th>Tenure</th>\n",
       "      <th>Balance</th>\n",
       "      <th>NumOfProducts</th>\n",
       "      <th>HasCrCard</th>\n",
       "      <th>IsActiveMember</th>\n",
       "      <th>EstimatedSalary</th>\n",
       "    </tr>\n",
       "  </thead>\n",
       "  <tbody>\n",
       "    <tr>\n",
       "      <th>0</th>\n",
       "      <td>165034</td>\n",
       "      <td>15773898</td>\n",
       "      <td>Lucchese</td>\n",
       "      <td>586</td>\n",
       "      <td>France</td>\n",
       "      <td>Female</td>\n",
       "      <td>23.0</td>\n",
       "      <td>2</td>\n",
       "      <td>0.00</td>\n",
       "      <td>2</td>\n",
       "      <td>0.0</td>\n",
       "      <td>1.0</td>\n",
       "      <td>160976.75</td>\n",
       "    </tr>\n",
       "    <tr>\n",
       "      <th>1</th>\n",
       "      <td>165035</td>\n",
       "      <td>15782418</td>\n",
       "      <td>Nott</td>\n",
       "      <td>683</td>\n",
       "      <td>France</td>\n",
       "      <td>Female</td>\n",
       "      <td>46.0</td>\n",
       "      <td>2</td>\n",
       "      <td>0.00</td>\n",
       "      <td>1</td>\n",
       "      <td>1.0</td>\n",
       "      <td>0.0</td>\n",
       "      <td>72549.27</td>\n",
       "    </tr>\n",
       "    <tr>\n",
       "      <th>2</th>\n",
       "      <td>165036</td>\n",
       "      <td>15807120</td>\n",
       "      <td>K?</td>\n",
       "      <td>656</td>\n",
       "      <td>France</td>\n",
       "      <td>Female</td>\n",
       "      <td>34.0</td>\n",
       "      <td>7</td>\n",
       "      <td>0.00</td>\n",
       "      <td>2</td>\n",
       "      <td>1.0</td>\n",
       "      <td>0.0</td>\n",
       "      <td>138882.09</td>\n",
       "    </tr>\n",
       "    <tr>\n",
       "      <th>3</th>\n",
       "      <td>165037</td>\n",
       "      <td>15808905</td>\n",
       "      <td>O'Donnell</td>\n",
       "      <td>681</td>\n",
       "      <td>France</td>\n",
       "      <td>Male</td>\n",
       "      <td>36.0</td>\n",
       "      <td>8</td>\n",
       "      <td>0.00</td>\n",
       "      <td>1</td>\n",
       "      <td>1.0</td>\n",
       "      <td>0.0</td>\n",
       "      <td>113931.57</td>\n",
       "    </tr>\n",
       "    <tr>\n",
       "      <th>4</th>\n",
       "      <td>165038</td>\n",
       "      <td>15607314</td>\n",
       "      <td>Higgins</td>\n",
       "      <td>752</td>\n",
       "      <td>Germany</td>\n",
       "      <td>Male</td>\n",
       "      <td>38.0</td>\n",
       "      <td>10</td>\n",
       "      <td>121263.62</td>\n",
       "      <td>1</td>\n",
       "      <td>1.0</td>\n",
       "      <td>0.0</td>\n",
       "      <td>139431.00</td>\n",
       "    </tr>\n",
       "  </tbody>\n",
       "</table>\n",
       "</div>"
      ],
      "text/plain": [
       "       id  CustomerId    Surname  CreditScore Geography  Gender   Age  Tenure  \\\n",
       "0  165034    15773898   Lucchese          586    France  Female  23.0       2   \n",
       "1  165035    15782418       Nott          683    France  Female  46.0       2   \n",
       "2  165036    15807120         K?          656    France  Female  34.0       7   \n",
       "3  165037    15808905  O'Donnell          681    France    Male  36.0       8   \n",
       "4  165038    15607314    Higgins          752   Germany    Male  38.0      10   \n",
       "\n",
       "     Balance  NumOfProducts  HasCrCard  IsActiveMember  EstimatedSalary  \n",
       "0       0.00              2        0.0             1.0        160976.75  \n",
       "1       0.00              1        1.0             0.0         72549.27  \n",
       "2       0.00              2        1.0             0.0        138882.09  \n",
       "3       0.00              1        1.0             0.0        113931.57  \n",
       "4  121263.62              1        1.0             0.0        139431.00  "
      ]
     },
     "execution_count": 4,
     "metadata": {},
     "output_type": "execute_result"
    }
   ],
   "source": [
    "testdf.head(5)"
   ]
  },
  {
   "cell_type": "code",
   "execution_count": 5,
   "id": "8b124aa0",
   "metadata": {
    "execution": {
     "iopub.execute_input": "2024-01-27T18:08:45.291778Z",
     "iopub.status.busy": "2024-01-27T18:08:45.291326Z",
     "iopub.status.idle": "2024-01-27T18:08:45.301242Z",
     "shell.execute_reply": "2024-01-27T18:08:45.300273Z"
    },
    "papermill": {
     "duration": 0.024181,
     "end_time": "2024-01-27T18:08:45.303713",
     "exception": false,
     "start_time": "2024-01-27T18:08:45.279532",
     "status": "completed"
    },
    "tags": []
   },
   "outputs": [
    {
     "data": {
      "text/plain": [
       "(165034, 14)"
      ]
     },
     "execution_count": 5,
     "metadata": {},
     "output_type": "execute_result"
    }
   ],
   "source": [
    "traindf.shape"
   ]
  },
  {
   "cell_type": "code",
   "execution_count": 6,
   "id": "a84cf4a8",
   "metadata": {
    "execution": {
     "iopub.execute_input": "2024-01-27T18:08:45.327673Z",
     "iopub.status.busy": "2024-01-27T18:08:45.327148Z",
     "iopub.status.idle": "2024-01-27T18:08:45.335684Z",
     "shell.execute_reply": "2024-01-27T18:08:45.334216Z"
    },
    "papermill": {
     "duration": 0.023503,
     "end_time": "2024-01-27T18:08:45.338286",
     "exception": false,
     "start_time": "2024-01-27T18:08:45.314783",
     "status": "completed"
    },
    "tags": []
   },
   "outputs": [
    {
     "data": {
      "text/plain": [
       "(110023, 13)"
      ]
     },
     "execution_count": 6,
     "metadata": {},
     "output_type": "execute_result"
    }
   ],
   "source": [
    "testdf.shape"
   ]
  },
  {
   "cell_type": "code",
   "execution_count": 7,
   "id": "4ef13a0f",
   "metadata": {
    "execution": {
     "iopub.execute_input": "2024-01-27T18:08:45.362409Z",
     "iopub.status.busy": "2024-01-27T18:08:45.361272Z",
     "iopub.status.idle": "2024-01-27T18:08:45.443048Z",
     "shell.execute_reply": "2024-01-27T18:08:45.441895Z"
    },
    "papermill": {
     "duration": 0.096902,
     "end_time": "2024-01-27T18:08:45.445938",
     "exception": false,
     "start_time": "2024-01-27T18:08:45.349036",
     "status": "completed"
    },
    "tags": []
   },
   "outputs": [
    {
     "name": "stdout",
     "output_type": "stream",
     "text": [
      "<class 'pandas.core.frame.DataFrame'>\n",
      "RangeIndex: 165034 entries, 0 to 165033\n",
      "Data columns (total 14 columns):\n",
      " #   Column           Non-Null Count   Dtype  \n",
      "---  ------           --------------   -----  \n",
      " 0   id               165034 non-null  int64  \n",
      " 1   CustomerId       165034 non-null  int64  \n",
      " 2   Surname          165034 non-null  object \n",
      " 3   CreditScore      165034 non-null  int64  \n",
      " 4   Geography        165034 non-null  object \n",
      " 5   Gender           165034 non-null  object \n",
      " 6   Age              165034 non-null  float64\n",
      " 7   Tenure           165034 non-null  int64  \n",
      " 8   Balance          165034 non-null  float64\n",
      " 9   NumOfProducts    165034 non-null  int64  \n",
      " 10  HasCrCard        165034 non-null  float64\n",
      " 11  IsActiveMember   165034 non-null  float64\n",
      " 12  EstimatedSalary  165034 non-null  float64\n",
      " 13  Exited           165034 non-null  int64  \n",
      "dtypes: float64(5), int64(6), object(3)\n",
      "memory usage: 17.6+ MB\n"
     ]
    }
   ],
   "source": [
    "traindf.info()"
   ]
  },
  {
   "cell_type": "code",
   "execution_count": 8,
   "id": "850e4c34",
   "metadata": {
    "execution": {
     "iopub.execute_input": "2024-01-27T18:08:45.472501Z",
     "iopub.status.busy": "2024-01-27T18:08:45.471713Z",
     "iopub.status.idle": "2024-01-27T18:08:45.520346Z",
     "shell.execute_reply": "2024-01-27T18:08:45.518872Z"
    },
    "papermill": {
     "duration": 0.06425,
     "end_time": "2024-01-27T18:08:45.523394",
     "exception": false,
     "start_time": "2024-01-27T18:08:45.459144",
     "status": "completed"
    },
    "tags": []
   },
   "outputs": [
    {
     "name": "stdout",
     "output_type": "stream",
     "text": [
      "<class 'pandas.core.frame.DataFrame'>\n",
      "RangeIndex: 110023 entries, 0 to 110022\n",
      "Data columns (total 13 columns):\n",
      " #   Column           Non-Null Count   Dtype  \n",
      "---  ------           --------------   -----  \n",
      " 0   id               110023 non-null  int64  \n",
      " 1   CustomerId       110023 non-null  int64  \n",
      " 2   Surname          110023 non-null  object \n",
      " 3   CreditScore      110023 non-null  int64  \n",
      " 4   Geography        110023 non-null  object \n",
      " 5   Gender           110023 non-null  object \n",
      " 6   Age              110023 non-null  float64\n",
      " 7   Tenure           110023 non-null  int64  \n",
      " 8   Balance          110023 non-null  float64\n",
      " 9   NumOfProducts    110023 non-null  int64  \n",
      " 10  HasCrCard        110023 non-null  float64\n",
      " 11  IsActiveMember   110023 non-null  float64\n",
      " 12  EstimatedSalary  110023 non-null  float64\n",
      "dtypes: float64(5), int64(5), object(3)\n",
      "memory usage: 10.9+ MB\n"
     ]
    }
   ],
   "source": [
    "testdf.info()"
   ]
  },
  {
   "cell_type": "code",
   "execution_count": 9,
   "id": "6cfeb2d7",
   "metadata": {
    "execution": {
     "iopub.execute_input": "2024-01-27T18:08:45.547827Z",
     "iopub.status.busy": "2024-01-27T18:08:45.547417Z",
     "iopub.status.idle": "2024-01-27T18:08:45.558629Z",
     "shell.execute_reply": "2024-01-27T18:08:45.557450Z"
    },
    "papermill": {
     "duration": 0.026969,
     "end_time": "2024-01-27T18:08:45.561369",
     "exception": false,
     "start_time": "2024-01-27T18:08:45.534400",
     "status": "completed"
    },
    "tags": []
   },
   "outputs": [
    {
     "data": {
      "text/html": [
       "<div>\n",
       "<style scoped>\n",
       "    .dataframe tbody tr th:only-of-type {\n",
       "        vertical-align: middle;\n",
       "    }\n",
       "\n",
       "    .dataframe tbody tr th {\n",
       "        vertical-align: top;\n",
       "    }\n",
       "\n",
       "    .dataframe thead th {\n",
       "        text-align: right;\n",
       "    }\n",
       "</style>\n",
       "<table border=\"1\" class=\"dataframe\">\n",
       "  <thead>\n",
       "    <tr style=\"text-align: right;\">\n",
       "      <th></th>\n",
       "      <th>id</th>\n",
       "      <th>Exited</th>\n",
       "    </tr>\n",
       "  </thead>\n",
       "  <tbody>\n",
       "    <tr>\n",
       "      <th>0</th>\n",
       "      <td>165034</td>\n",
       "      <td>0.5</td>\n",
       "    </tr>\n",
       "    <tr>\n",
       "      <th>1</th>\n",
       "      <td>165035</td>\n",
       "      <td>0.5</td>\n",
       "    </tr>\n",
       "    <tr>\n",
       "      <th>2</th>\n",
       "      <td>165036</td>\n",
       "      <td>0.5</td>\n",
       "    </tr>\n",
       "    <tr>\n",
       "      <th>3</th>\n",
       "      <td>165037</td>\n",
       "      <td>0.5</td>\n",
       "    </tr>\n",
       "    <tr>\n",
       "      <th>4</th>\n",
       "      <td>165038</td>\n",
       "      <td>0.5</td>\n",
       "    </tr>\n",
       "  </tbody>\n",
       "</table>\n",
       "</div>"
      ],
      "text/plain": [
       "       id  Exited\n",
       "0  165034     0.5\n",
       "1  165035     0.5\n",
       "2  165036     0.5\n",
       "3  165037     0.5\n",
       "4  165038     0.5"
      ]
     },
     "execution_count": 9,
     "metadata": {},
     "output_type": "execute_result"
    }
   ],
   "source": [
    "sampledf.head(5)"
   ]
  },
  {
   "cell_type": "code",
   "execution_count": 10,
   "id": "1becdc79",
   "metadata": {
    "execution": {
     "iopub.execute_input": "2024-01-27T18:08:45.585679Z",
     "iopub.status.busy": "2024-01-27T18:08:45.585275Z",
     "iopub.status.idle": "2024-01-27T18:08:45.648004Z",
     "shell.execute_reply": "2024-01-27T18:08:45.646629Z"
    },
    "papermill": {
     "duration": 0.078299,
     "end_time": "2024-01-27T18:08:45.650867",
     "exception": false,
     "start_time": "2024-01-27T18:08:45.572568",
     "status": "completed"
    },
    "tags": []
   },
   "outputs": [
    {
     "data": {
      "text/plain": [
       "id                 0\n",
       "CustomerId         0\n",
       "Surname            0\n",
       "CreditScore        0\n",
       "Geography          0\n",
       "Gender             0\n",
       "Age                0\n",
       "Tenure             0\n",
       "Balance            0\n",
       "NumOfProducts      0\n",
       "HasCrCard          0\n",
       "IsActiveMember     0\n",
       "EstimatedSalary    0\n",
       "Exited             0\n",
       "dtype: int64"
      ]
     },
     "execution_count": 10,
     "metadata": {},
     "output_type": "execute_result"
    }
   ],
   "source": [
    "traindf.isnull().sum()"
   ]
  },
  {
   "cell_type": "code",
   "execution_count": 11,
   "id": "e99d6c8b",
   "metadata": {
    "execution": {
     "iopub.execute_input": "2024-01-27T18:08:45.677274Z",
     "iopub.status.busy": "2024-01-27T18:08:45.676824Z",
     "iopub.status.idle": "2024-01-27T18:08:45.720608Z",
     "shell.execute_reply": "2024-01-27T18:08:45.719382Z"
    },
    "papermill": {
     "duration": 0.060277,
     "end_time": "2024-01-27T18:08:45.723123",
     "exception": false,
     "start_time": "2024-01-27T18:08:45.662846",
     "status": "completed"
    },
    "tags": []
   },
   "outputs": [
    {
     "data": {
      "text/plain": [
       "id                 0\n",
       "CustomerId         0\n",
       "Surname            0\n",
       "CreditScore        0\n",
       "Geography          0\n",
       "Gender             0\n",
       "Age                0\n",
       "Tenure             0\n",
       "Balance            0\n",
       "NumOfProducts      0\n",
       "HasCrCard          0\n",
       "IsActiveMember     0\n",
       "EstimatedSalary    0\n",
       "dtype: int64"
      ]
     },
     "execution_count": 11,
     "metadata": {},
     "output_type": "execute_result"
    }
   ],
   "source": [
    "testdf.isnull().sum()"
   ]
  },
  {
   "cell_type": "code",
   "execution_count": 12,
   "id": "4fb1e3cb",
   "metadata": {
    "execution": {
     "iopub.execute_input": "2024-01-27T18:08:45.748473Z",
     "iopub.status.busy": "2024-01-27T18:08:45.748015Z",
     "iopub.status.idle": "2024-01-27T18:08:45.874315Z",
     "shell.execute_reply": "2024-01-27T18:08:45.873128Z"
    },
    "papermill": {
     "duration": 0.142071,
     "end_time": "2024-01-27T18:08:45.877282",
     "exception": false,
     "start_time": "2024-01-27T18:08:45.735211",
     "status": "completed"
    },
    "tags": []
   },
   "outputs": [
    {
     "data": {
      "text/plain": [
       "0"
      ]
     },
     "execution_count": 12,
     "metadata": {},
     "output_type": "execute_result"
    }
   ],
   "source": [
    "traindf.duplicated().sum()"
   ]
  },
  {
   "cell_type": "code",
   "execution_count": 13,
   "id": "3e125e4b",
   "metadata": {
    "execution": {
     "iopub.execute_input": "2024-01-27T18:08:45.903099Z",
     "iopub.status.busy": "2024-01-27T18:08:45.902683Z",
     "iopub.status.idle": "2024-01-27T18:08:45.981713Z",
     "shell.execute_reply": "2024-01-27T18:08:45.980620Z"
    },
    "papermill": {
     "duration": 0.094635,
     "end_time": "2024-01-27T18:08:45.984244",
     "exception": false,
     "start_time": "2024-01-27T18:08:45.889609",
     "status": "completed"
    },
    "tags": []
   },
   "outputs": [
    {
     "data": {
      "text/plain": [
       "0"
      ]
     },
     "execution_count": 13,
     "metadata": {},
     "output_type": "execute_result"
    }
   ],
   "source": [
    "testdf.duplicated().sum()"
   ]
  },
  {
   "cell_type": "code",
   "execution_count": 14,
   "id": "3f2a1834",
   "metadata": {
    "execution": {
     "iopub.execute_input": "2024-01-27T18:08:46.010837Z",
     "iopub.status.busy": "2024-01-27T18:08:46.010059Z",
     "iopub.status.idle": "2024-01-27T18:08:46.020684Z",
     "shell.execute_reply": "2024-01-27T18:08:46.019528Z"
    },
    "papermill": {
     "duration": 0.027742,
     "end_time": "2024-01-27T18:08:46.023759",
     "exception": false,
     "start_time": "2024-01-27T18:08:45.996017",
     "status": "completed"
    },
    "tags": []
   },
   "outputs": [
    {
     "data": {
      "text/plain": [
       "Exited\n",
       "0    130113\n",
       "1     34921\n",
       "Name: count, dtype: int64"
      ]
     },
     "execution_count": 14,
     "metadata": {},
     "output_type": "execute_result"
    }
   ],
   "source": [
    "exited_unique = traindf['Exited'].value_counts()\n",
    "exited_unique"
   ]
  },
  {
   "cell_type": "code",
   "execution_count": 15,
   "id": "4e9811e4",
   "metadata": {
    "execution": {
     "iopub.execute_input": "2024-01-27T18:08:46.051131Z",
     "iopub.status.busy": "2024-01-27T18:08:46.049977Z",
     "iopub.status.idle": "2024-01-27T18:08:46.074673Z",
     "shell.execute_reply": "2024-01-27T18:08:46.073454Z"
    },
    "papermill": {
     "duration": 0.042019,
     "end_time": "2024-01-27T18:08:46.077846",
     "exception": false,
     "start_time": "2024-01-27T18:08:46.035827",
     "status": "completed"
    },
    "tags": []
   },
   "outputs": [],
   "source": [
    "churn_df = traindf[traindf['Exited'] == 1]\n",
    "nonchurn_df = traindf[traindf['Exited'] == 0]"
   ]
  },
  {
   "cell_type": "markdown",
   "id": "fe77daa2",
   "metadata": {
    "papermill": {
     "duration": 0.011717,
     "end_time": "2024-01-27T18:08:46.102125",
     "exception": false,
     "start_time": "2024-01-27T18:08:46.090408",
     "status": "completed"
    },
    "tags": []
   },
   "source": [
    "### Age"
   ]
  },
  {
   "cell_type": "code",
   "execution_count": 16,
   "id": "1cc06f84",
   "metadata": {
    "execution": {
     "iopub.execute_input": "2024-01-27T18:08:46.129976Z",
     "iopub.status.busy": "2024-01-27T18:08:46.129557Z",
     "iopub.status.idle": "2024-01-27T18:08:46.138962Z",
     "shell.execute_reply": "2024-01-27T18:08:46.137612Z"
    },
    "papermill": {
     "duration": 0.026447,
     "end_time": "2024-01-27T18:08:46.141335",
     "exception": false,
     "start_time": "2024-01-27T18:08:46.114888",
     "status": "completed"
    },
    "tags": []
   },
   "outputs": [
    {
     "name": "stdout",
     "output_type": "stream",
     "text": [
      "Average age of churned customers: 43.96\n",
      "Average age of non-churn customers: 36.56\n",
      "==> The average age of churned customers is higher than that of the non-churn customers.\n"
     ]
    }
   ],
   "source": [
    "average_age_churned = churn_df['Age'].mean()\n",
    "average_age_nonchurn = nonchurn_df['Age'].mean()\n",
    "\n",
    "print(\"Average age of churned customers:\", round(average_age_churned,2))\n",
    "print(\"Average age of non-churn customers:\", round(average_age_nonchurn,2))\n",
    "\n",
    "if average_age_churned > average_age_nonchurn:\n",
    "    print(\"==> The average age of churned customers is higher than that of the non-churn customers.\")\n",
    "elif average_age_churned < average_age_nonchurn:\n",
    "    print(\"==> The average age of non-churn customers is higher than that of the churned customers.\")\n",
    "else:\n",
    "    print(\"==> The average age of churned customers is equal to the average age of non-churn customers.\")"
   ]
  },
  {
   "cell_type": "markdown",
   "id": "b0702322",
   "metadata": {
    "papermill": {
     "duration": 0.012199,
     "end_time": "2024-01-27T18:08:46.166047",
     "exception": false,
     "start_time": "2024-01-27T18:08:46.153848",
     "status": "completed"
    },
    "tags": []
   },
   "source": [
    "### Credit Score"
   ]
  },
  {
   "cell_type": "code",
   "execution_count": 17,
   "id": "d13731c7",
   "metadata": {
    "execution": {
     "iopub.execute_input": "2024-01-27T18:08:46.193212Z",
     "iopub.status.busy": "2024-01-27T18:08:46.192557Z",
     "iopub.status.idle": "2024-01-27T18:08:46.200826Z",
     "shell.execute_reply": "2024-01-27T18:08:46.199483Z"
    },
    "papermill": {
     "duration": 0.024634,
     "end_time": "2024-01-27T18:08:46.203378",
     "exception": false,
     "start_time": "2024-01-27T18:08:46.178744",
     "status": "completed"
    },
    "tags": []
   },
   "outputs": [
    {
     "name": "stdout",
     "output_type": "stream",
     "text": [
      "Average CreditScore of churned customers: 652.22\n",
      "Average CreditScore of non-churn customers: 657.59\n",
      "==> The average CreditScore of non-churn customers is higher than that of the churned customers.\n"
     ]
    }
   ],
   "source": [
    "average_creditscore_churned = churn_df['CreditScore'].mean()\n",
    "average_creditscore_nonchurn = nonchurn_df['CreditScore'].mean()\n",
    "\n",
    "print(\"Average CreditScore of churned customers:\", round(average_creditscore_churned,2))\n",
    "print(\"Average CreditScore of non-churn customers:\", round(average_creditscore_nonchurn,2))\n",
    "\n",
    "if average_creditscore_churned > average_creditscore_nonchurn:\n",
    "    print(\"==> The average CreditScore of churned customers is higher than that of the non-churn customers.\")\n",
    "elif average_creditscore_churned < average_creditscore_nonchurn:\n",
    "    print(\"==> The average CreditScore of non-churn customers is higher than that of the churned customers.\")\n",
    "else:\n",
    "    print(\"==> The average CreditScore of churned customers is equal to the average age of non-churn customers.\")"
   ]
  },
  {
   "cell_type": "markdown",
   "id": "e2f4d26a",
   "metadata": {
    "papermill": {
     "duration": 0.011999,
     "end_time": "2024-01-27T18:08:46.227780",
     "exception": false,
     "start_time": "2024-01-27T18:08:46.215781",
     "status": "completed"
    },
    "tags": []
   },
   "source": [
    "### Account Balance"
   ]
  },
  {
   "cell_type": "code",
   "execution_count": 18,
   "id": "56359fa4",
   "metadata": {
    "execution": {
     "iopub.execute_input": "2024-01-27T18:08:46.254133Z",
     "iopub.status.busy": "2024-01-27T18:08:46.253686Z",
     "iopub.status.idle": "2024-01-27T18:08:46.264174Z",
     "shell.execute_reply": "2024-01-27T18:08:46.262732Z"
    },
    "papermill": {
     "duration": 0.026422,
     "end_time": "2024-01-27T18:08:46.266534",
     "exception": false,
     "start_time": "2024-01-27T18:08:46.240112",
     "status": "completed"
    },
    "tags": []
   },
   "outputs": [
    {
     "name": "stdout",
     "output_type": "stream",
     "text": [
      "Average AccountBalance of churned customers: 71209.98\n",
      "Average AccountBalance of non-churn customers: 51255.81\n",
      "==> The average AccountBalance of churned customers is higher than that of the non-churn customers.\n"
     ]
    }
   ],
   "source": [
    "average_accountbalance_churned = churn_df['Balance'].mean()\n",
    "average_accountbalance_nonchurn = nonchurn_df['Balance'].mean()\n",
    "\n",
    "print(\"Average AccountBalance of churned customers:\", round(average_accountbalance_churned,2))\n",
    "print(\"Average AccountBalance of non-churn customers:\", round(average_accountbalance_nonchurn,2))\n",
    "\n",
    "if average_accountbalance_churned > average_accountbalance_nonchurn:\n",
    "    print(\"==> The average AccountBalance of churned customers is higher than that of the non-churn customers.\")\n",
    "elif average_accountbalance_churned < average_accountbalance_nonchurn:\n",
    "    print(\"==> The average AccountBalance of non-churn customers is higher than that of the churned customers.\")\n",
    "else:\n",
    "    print(\"==> The average AccountBalance of churned customers is equal to the average age of non-churn customers.\")"
   ]
  },
  {
   "cell_type": "markdown",
   "id": "185be785",
   "metadata": {
    "papermill": {
     "duration": 0.012285,
     "end_time": "2024-01-27T18:08:46.291416",
     "exception": false,
     "start_time": "2024-01-27T18:08:46.279131",
     "status": "completed"
    },
    "tags": []
   },
   "source": [
    "### Estimated Salary"
   ]
  },
  {
   "cell_type": "code",
   "execution_count": 19,
   "id": "0ceef1f2",
   "metadata": {
    "execution": {
     "iopub.execute_input": "2024-01-27T18:08:46.318920Z",
     "iopub.status.busy": "2024-01-27T18:08:46.317667Z",
     "iopub.status.idle": "2024-01-27T18:08:46.328651Z",
     "shell.execute_reply": "2024-01-27T18:08:46.327147Z"
    },
    "papermill": {
     "duration": 0.02753,
     "end_time": "2024-01-27T18:08:46.331345",
     "exception": false,
     "start_time": "2024-01-27T18:08:46.303815",
     "status": "completed"
    },
    "tags": []
   },
   "outputs": [
    {
     "name": "stdout",
     "output_type": "stream",
     "text": [
      "Average EstimatedSalary of churned customers: 114402.5\n",
      "Average EstimatedSalary of non-churn customers: 112084.29\n",
      "==> The average EstimatedSalary of churned customers is higher than that of the non-churn customers.\n"
     ]
    }
   ],
   "source": [
    "average_estimatedsalary_churned = churn_df['EstimatedSalary'].mean()\n",
    "average_estimatedsalary_nonchurn = nonchurn_df['EstimatedSalary'].mean()\n",
    "\n",
    "print(\"Average EstimatedSalary of churned customers:\", round(average_estimatedsalary_churned,2))\n",
    "print(\"Average EstimatedSalary of non-churn customers:\", round(average_estimatedsalary_nonchurn,2))\n",
    "\n",
    "if average_estimatedsalary_churned > average_estimatedsalary_nonchurn:\n",
    "    print(\"==> The average EstimatedSalary of churned customers is higher than that of the non-churn customers.\")\n",
    "elif average_estimatedsalary_churned < average_estimatedsalary_nonchurn:\n",
    "    print(\"==> The average EstimatedSalary of non-churn customers is higher than that of the churned customers.\")\n",
    "else:\n",
    "    print(\"==> The average EstimatedSalary of churned customers is equal to the average age of non-churn customers.\")"
   ]
  },
  {
   "cell_type": "markdown",
   "id": "4cb5bee7",
   "metadata": {
    "papermill": {
     "duration": 0.011955,
     "end_time": "2024-01-27T18:08:46.355852",
     "exception": false,
     "start_time": "2024-01-27T18:08:46.343897",
     "status": "completed"
    },
    "tags": []
   },
   "source": [
    "### Tenure"
   ]
  },
  {
   "cell_type": "code",
   "execution_count": 20,
   "id": "c8f81c26",
   "metadata": {
    "execution": {
     "iopub.execute_input": "2024-01-27T18:08:46.383176Z",
     "iopub.status.busy": "2024-01-27T18:08:46.382419Z",
     "iopub.status.idle": "2024-01-27T18:08:46.390933Z",
     "shell.execute_reply": "2024-01-27T18:08:46.389599Z"
    },
    "papermill": {
     "duration": 0.025046,
     "end_time": "2024-01-27T18:08:46.393389",
     "exception": false,
     "start_time": "2024-01-27T18:08:46.368343",
     "status": "completed"
    },
    "tags": []
   },
   "outputs": [
    {
     "name": "stdout",
     "output_type": "stream",
     "text": [
      "Average Tenure of churned customers: 4.91\n",
      "Average Tenure of non-churn customers: 5.05\n",
      "==> The average Tenure of non-churn customers is higher than that of the churned customers.\n"
     ]
    }
   ],
   "source": [
    "average_tenure_churned = churn_df['Tenure'].mean()\n",
    "average_tenure_nonchurn = nonchurn_df['Tenure'].mean()\n",
    "\n",
    "print(\"Average Tenure of churned customers:\", round(average_tenure_churned,2))\n",
    "print(\"Average Tenure of non-churn customers:\", round(average_tenure_nonchurn,2))\n",
    "\n",
    "if average_tenure_churned > average_tenure_nonchurn:\n",
    "    print(\"==> The average Tenure of churned customers is higher than that of the non-churn customers.\")\n",
    "elif average_tenure_churned < average_tenure_nonchurn:\n",
    "    print(\"==> The average Tenure of non-churn customers is higher than that of the churned customers.\")\n",
    "else:\n",
    "    print(\"==> The average Tenure of churned customers is equal to the average age of non-churn customers.\")"
   ]
  },
  {
   "cell_type": "markdown",
   "id": "7689b92e",
   "metadata": {
    "papermill": {
     "duration": 0.012175,
     "end_time": "2024-01-27T18:08:46.419896",
     "exception": false,
     "start_time": "2024-01-27T18:08:46.407721",
     "status": "completed"
    },
    "tags": []
   },
   "source": [
    "### Number of Bank products"
   ]
  },
  {
   "cell_type": "code",
   "execution_count": 21,
   "id": "0c0f8605",
   "metadata": {
    "execution": {
     "iopub.execute_input": "2024-01-27T18:08:46.447923Z",
     "iopub.status.busy": "2024-01-27T18:08:46.446737Z",
     "iopub.status.idle": "2024-01-27T18:08:46.457516Z",
     "shell.execute_reply": "2024-01-27T18:08:46.455902Z"
    },
    "papermill": {
     "duration": 0.027813,
     "end_time": "2024-01-27T18:08:46.460263",
     "exception": false,
     "start_time": "2024-01-27T18:08:46.432450",
     "status": "completed"
    },
    "tags": []
   },
   "outputs": [
    {
     "name": "stdout",
     "output_type": "stream",
     "text": [
      "Average Number_of_BankProducts of churned customers: 1.33\n",
      "Average Number_of_BankProducts of non-churn customers: 1.62\n",
      "==> The average Number_of_BankProducts of non-churn customers is higher than that of the churned customers.\n"
     ]
    }
   ],
   "source": [
    "average_products_churned = churn_df['NumOfProducts'].mean()\n",
    "average_products_nonchurn = nonchurn_df['NumOfProducts'].mean()\n",
    "\n",
    "print(\"Average Number_of_BankProducts of churned customers:\", round(average_products_churned,2))\n",
    "print(\"Average Number_of_BankProducts of non-churn customers:\", round(average_products_nonchurn,2))\n",
    "\n",
    "if average_products_churned > average_products_nonchurn:\n",
    "    print(\"==> The average Number_of_BankProducts of churned customers is higher than that of the non-churn customers.\")\n",
    "elif average_products_churned < average_products_nonchurn:\n",
    "    print(\"==> The average Number_of_BankProducts of non-churn customers is higher than that of the churned customers.\")\n",
    "else:\n",
    "    print(\"==> The average Number_of_BankProducts of churned customers is equal to the average age of non-churn customers.\")"
   ]
  },
  {
   "cell_type": "markdown",
   "id": "5667cfb0",
   "metadata": {
    "papermill": {
     "duration": 0.01233,
     "end_time": "2024-01-27T18:08:46.485549",
     "exception": false,
     "start_time": "2024-01-27T18:08:46.473219",
     "status": "completed"
    },
    "tags": []
   },
   "source": [
    "### Has a CreditCard"
   ]
  },
  {
   "cell_type": "code",
   "execution_count": 22,
   "id": "83f631c4",
   "metadata": {
    "execution": {
     "iopub.execute_input": "2024-01-27T18:08:46.513107Z",
     "iopub.status.busy": "2024-01-27T18:08:46.512380Z",
     "iopub.status.idle": "2024-01-27T18:08:46.523444Z",
     "shell.execute_reply": "2024-01-27T18:08:46.521510Z"
    },
    "papermill": {
     "duration": 0.028169,
     "end_time": "2024-01-27T18:08:46.526239",
     "exception": false,
     "start_time": "2024-01-27T18:08:46.498070",
     "status": "completed"
    },
    "tags": []
   },
   "outputs": [
    {
     "name": "stdout",
     "output_type": "stream",
     "text": [
      "Number of churned customers with CreditCard: 25686\n",
      "Number of non-churn customers with CreditCard: 9235\n",
      "==> Number of churned customers with CreditCard is higher than that of the non-churn customers.\n"
     ]
    }
   ],
   "source": [
    "count_hascrcard_churned = (churn_df['HasCrCard'] == 1).sum()\n",
    "count_hascrcard_nonchurn = (churn_df['HasCrCard'] == 0).sum()\n",
    "\n",
    "print(\"Number of churned customers with CreditCard:\", count_hascrcard_churned)\n",
    "print(\"Number of non-churn customers with CreditCard:\", count_hascrcard_nonchurn)\n",
    "\n",
    "if count_hascrcard_churned > count_hascrcard_nonchurn:\n",
    "    print(\"==> Number of churned customers with CreditCard is higher than that of the non-churn customers.\")\n",
    "elif count_hascrcard_churned < count_hascrcard_nonchurn:\n",
    "    print(\"==> Number of non-churn customers with CreditCard is higher than that of the churned customers.\")\n",
    "else:\n",
    "    print(\"==> Number of churned customers with CreditCard is equal to the average age of non-churn customers.\")"
   ]
  },
  {
   "cell_type": "markdown",
   "id": "c8e88e81",
   "metadata": {
    "papermill": {
     "duration": 0.012683,
     "end_time": "2024-01-27T18:08:46.555312",
     "exception": false,
     "start_time": "2024-01-27T18:08:46.542629",
     "status": "completed"
    },
    "tags": []
   },
   "source": [
    "### Active Member"
   ]
  },
  {
   "cell_type": "code",
   "execution_count": 23,
   "id": "4615417a",
   "metadata": {
    "execution": {
     "iopub.execute_input": "2024-01-27T18:08:46.649589Z",
     "iopub.status.busy": "2024-01-27T18:08:46.649142Z",
     "iopub.status.idle": "2024-01-27T18:08:46.658569Z",
     "shell.execute_reply": "2024-01-27T18:08:46.657331Z"
    },
    "papermill": {
     "duration": 0.026926,
     "end_time": "2024-01-27T18:08:46.661288",
     "exception": false,
     "start_time": "2024-01-27T18:08:46.634362",
     "status": "completed"
    },
    "tags": []
   },
   "outputs": [
    {
     "name": "stdout",
     "output_type": "stream",
     "text": [
      "Number of churned customers who are active: 10297\n",
      "Number of non-churn customers who are active: 24624\n",
      "==> Number of non-churn customers who are active is higher than that of the churned customers.\n"
     ]
    }
   ],
   "source": [
    "count_activemember_churned = (churn_df['IsActiveMember'] == 1).sum()\n",
    "count_activemember_nonchurn = (churn_df['IsActiveMember'] == 0).sum()\n",
    "\n",
    "print(\"Number of churned customers who are active:\", count_activemember_churned)\n",
    "print(\"Number of non-churn customers who are active:\", count_activemember_nonchurn)\n",
    "\n",
    "if count_activemember_churned > count_activemember_nonchurn:\n",
    "    print(\"==> Number of churned customers who are active is higher than that of the non-churn customers.\")\n",
    "elif count_activemember_churned < count_activemember_nonchurn:\n",
    "    print(\"==> Number of non-churn customers who are active is higher than that of the churned customers.\")\n",
    "else:\n",
    "    print(\"==> Number of churned customers who are active is equal to the average age of non-churn customers.\")"
   ]
  }
 ],
 "metadata": {
  "kaggle": {
   "accelerator": "none",
   "dataSources": [
    {
     "databundleVersionId": 7405009,
     "sourceId": 65711,
     "sourceType": "competition"
    }
   ],
   "dockerImageVersionId": 30635,
   "isGpuEnabled": false,
   "isInternetEnabled": true,
   "language": "python",
   "sourceType": "notebook"
  },
  "kernelspec": {
   "display_name": "Python 3",
   "language": "python",
   "name": "python3"
  },
  "language_info": {
   "codemirror_mode": {
    "name": "ipython",
    "version": 3
   },
   "file_extension": ".py",
   "mimetype": "text/x-python",
   "name": "python",
   "nbconvert_exporter": "python",
   "pygments_lexer": "ipython3",
   "version": "3.10.12"
  },
  "papermill": {
   "default_parameters": {},
   "duration": 7.009899,
   "end_time": "2024-01-27T18:08:47.196311",
   "environment_variables": {},
   "exception": null,
   "input_path": "__notebook__.ipynb",
   "output_path": "__notebook__.ipynb",
   "parameters": {},
   "start_time": "2024-01-27T18:08:40.186412",
   "version": "2.4.0"
  }
 },
 "nbformat": 4,
 "nbformat_minor": 5
}
