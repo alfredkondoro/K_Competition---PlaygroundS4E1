{
 "cells": [
  {
   "cell_type": "code",
   "execution_count": 1,
   "id": "478bc3c4",
   "metadata": {
    "_cell_guid": "33de28ae-1b3f-46b1-a443-4c95c785145d",
    "_uuid": "15166ff0-1774-440a-b56c-cae8ba846e96",
    "collapsed": false,
    "execution": {
     "iopub.execute_input": "2024-01-28T06:11:21.646299Z",
     "iopub.status.busy": "2024-01-28T06:11:21.645913Z",
     "iopub.status.idle": "2024-01-28T06:11:23.952120Z",
     "shell.execute_reply": "2024-01-28T06:11:23.951077Z"
    },
    "jupyter": {
     "outputs_hidden": false
    },
    "papermill": {
     "duration": 2.331859,
     "end_time": "2024-01-28T06:11:23.954880",
     "exception": false,
     "start_time": "2024-01-28T06:11:21.623021",
     "status": "completed"
    },
    "tags": []
   },
   "outputs": [],
   "source": [
    "#importing libraries\n",
    "import pandas as pd\n",
    "import numpy as np\n",
    "import matplotlib.pyplot as plt\n",
    "from sklearn.model_selection import train_test_split\n",
    "from sklearn.linear_model import LogisticRegression\n",
    "from sklearn.compose import ColumnTransformer\n",
    "from sklearn.pipeline import Pipeline\n",
    "from sklearn.impute import SimpleImputer\n",
    "from sklearn.preprocessing import StandardScaler, OneHotEncoder\n",
    "from sklearn.metrics import roc_auc_score"
   ]
  },
  {
   "cell_type": "code",
   "execution_count": 2,
   "id": "0f9bae09",
   "metadata": {
    "_cell_guid": "e216a062-7978-4beb-9a00-b8a7658481dd",
    "_uuid": "1e7f33a6-538d-48aa-b2f8-de6460641638",
    "collapsed": false,
    "execution": {
     "iopub.execute_input": "2024-01-28T06:11:23.996257Z",
     "iopub.status.busy": "2024-01-28T06:11:23.995706Z",
     "iopub.status.idle": "2024-01-28T06:11:24.804498Z",
     "shell.execute_reply": "2024-01-28T06:11:24.803631Z"
    },
    "jupyter": {
     "outputs_hidden": false
    },
    "papermill": {
     "duration": 0.832706,
     "end_time": "2024-01-28T06:11:24.807445",
     "exception": false,
     "start_time": "2024-01-28T06:11:23.974739",
     "status": "completed"
    },
    "tags": []
   },
   "outputs": [],
   "source": [
    "#loading datasets\n",
    "traindf = pd.read_csv(\"/kaggle/input/playground-series-s4e1/train.csv\")\n",
    "testdf = pd.read_csv(\"/kaggle/input/playground-series-s4e1/test.csv\")\n",
    "sampledf = pd.read_csv(\"/kaggle/input/playground-series-s4e1/sample_submission.csv\")"
   ]
  },
  {
   "cell_type": "markdown",
   "id": "8eb5ffc9",
   "metadata": {
    "papermill": {
     "duration": 0.018984,
     "end_time": "2024-01-28T06:11:24.846125",
     "exception": false,
     "start_time": "2024-01-28T06:11:24.827141",
     "status": "completed"
    },
    "tags": []
   },
   "source": [
    "## **Data Inspection**"
   ]
  },
  {
   "cell_type": "code",
   "execution_count": 3,
   "id": "5f99cfd0",
   "metadata": {
    "_cell_guid": "23901aa5-5e60-451c-bda1-8e694e63d541",
    "_uuid": "441e911c-ae4d-4491-80ac-04df9d7815cf",
    "collapsed": false,
    "execution": {
     "iopub.execute_input": "2024-01-28T06:11:24.887516Z",
     "iopub.status.busy": "2024-01-28T06:11:24.887112Z",
     "iopub.status.idle": "2024-01-28T06:11:24.923281Z",
     "shell.execute_reply": "2024-01-28T06:11:24.921759Z"
    },
    "jupyter": {
     "outputs_hidden": false
    },
    "papermill": {
     "duration": 0.061062,
     "end_time": "2024-01-28T06:11:24.926429",
     "exception": false,
     "start_time": "2024-01-28T06:11:24.865367",
     "status": "completed"
    },
    "tags": []
   },
   "outputs": [
    {
     "data": {
      "text/html": [
       "<div>\n",
       "<style scoped>\n",
       "    .dataframe tbody tr th:only-of-type {\n",
       "        vertical-align: middle;\n",
       "    }\n",
       "\n",
       "    .dataframe tbody tr th {\n",
       "        vertical-align: top;\n",
       "    }\n",
       "\n",
       "    .dataframe thead th {\n",
       "        text-align: right;\n",
       "    }\n",
       "</style>\n",
       "<table border=\"1\" class=\"dataframe\">\n",
       "  <thead>\n",
       "    <tr style=\"text-align: right;\">\n",
       "      <th></th>\n",
       "      <th>id</th>\n",
       "      <th>CustomerId</th>\n",
       "      <th>Surname</th>\n",
       "      <th>CreditScore</th>\n",
       "      <th>Geography</th>\n",
       "      <th>Gender</th>\n",
       "      <th>Age</th>\n",
       "      <th>Tenure</th>\n",
       "      <th>Balance</th>\n",
       "      <th>NumOfProducts</th>\n",
       "      <th>HasCrCard</th>\n",
       "      <th>IsActiveMember</th>\n",
       "      <th>EstimatedSalary</th>\n",
       "      <th>Exited</th>\n",
       "    </tr>\n",
       "  </thead>\n",
       "  <tbody>\n",
       "    <tr>\n",
       "      <th>0</th>\n",
       "      <td>0</td>\n",
       "      <td>15674932</td>\n",
       "      <td>Okwudilichukwu</td>\n",
       "      <td>668</td>\n",
       "      <td>France</td>\n",
       "      <td>Male</td>\n",
       "      <td>33.0</td>\n",
       "      <td>3</td>\n",
       "      <td>0.00</td>\n",
       "      <td>2</td>\n",
       "      <td>1.0</td>\n",
       "      <td>0.0</td>\n",
       "      <td>181449.97</td>\n",
       "      <td>0</td>\n",
       "    </tr>\n",
       "    <tr>\n",
       "      <th>1</th>\n",
       "      <td>1</td>\n",
       "      <td>15749177</td>\n",
       "      <td>Okwudiliolisa</td>\n",
       "      <td>627</td>\n",
       "      <td>France</td>\n",
       "      <td>Male</td>\n",
       "      <td>33.0</td>\n",
       "      <td>1</td>\n",
       "      <td>0.00</td>\n",
       "      <td>2</td>\n",
       "      <td>1.0</td>\n",
       "      <td>1.0</td>\n",
       "      <td>49503.50</td>\n",
       "      <td>0</td>\n",
       "    </tr>\n",
       "    <tr>\n",
       "      <th>2</th>\n",
       "      <td>2</td>\n",
       "      <td>15694510</td>\n",
       "      <td>Hsueh</td>\n",
       "      <td>678</td>\n",
       "      <td>France</td>\n",
       "      <td>Male</td>\n",
       "      <td>40.0</td>\n",
       "      <td>10</td>\n",
       "      <td>0.00</td>\n",
       "      <td>2</td>\n",
       "      <td>1.0</td>\n",
       "      <td>0.0</td>\n",
       "      <td>184866.69</td>\n",
       "      <td>0</td>\n",
       "    </tr>\n",
       "    <tr>\n",
       "      <th>3</th>\n",
       "      <td>3</td>\n",
       "      <td>15741417</td>\n",
       "      <td>Kao</td>\n",
       "      <td>581</td>\n",
       "      <td>France</td>\n",
       "      <td>Male</td>\n",
       "      <td>34.0</td>\n",
       "      <td>2</td>\n",
       "      <td>148882.54</td>\n",
       "      <td>1</td>\n",
       "      <td>1.0</td>\n",
       "      <td>1.0</td>\n",
       "      <td>84560.88</td>\n",
       "      <td>0</td>\n",
       "    </tr>\n",
       "    <tr>\n",
       "      <th>4</th>\n",
       "      <td>4</td>\n",
       "      <td>15766172</td>\n",
       "      <td>Chiemenam</td>\n",
       "      <td>716</td>\n",
       "      <td>Spain</td>\n",
       "      <td>Male</td>\n",
       "      <td>33.0</td>\n",
       "      <td>5</td>\n",
       "      <td>0.00</td>\n",
       "      <td>2</td>\n",
       "      <td>1.0</td>\n",
       "      <td>1.0</td>\n",
       "      <td>15068.83</td>\n",
       "      <td>0</td>\n",
       "    </tr>\n",
       "  </tbody>\n",
       "</table>\n",
       "</div>"
      ],
      "text/plain": [
       "   id  CustomerId         Surname  CreditScore Geography Gender   Age  Tenure  \\\n",
       "0   0    15674932  Okwudilichukwu          668    France   Male  33.0       3   \n",
       "1   1    15749177   Okwudiliolisa          627    France   Male  33.0       1   \n",
       "2   2    15694510           Hsueh          678    France   Male  40.0      10   \n",
       "3   3    15741417             Kao          581    France   Male  34.0       2   \n",
       "4   4    15766172       Chiemenam          716     Spain   Male  33.0       5   \n",
       "\n",
       "     Balance  NumOfProducts  HasCrCard  IsActiveMember  EstimatedSalary  \\\n",
       "0       0.00              2        1.0             0.0        181449.97   \n",
       "1       0.00              2        1.0             1.0         49503.50   \n",
       "2       0.00              2        1.0             0.0        184866.69   \n",
       "3  148882.54              1        1.0             1.0         84560.88   \n",
       "4       0.00              2        1.0             1.0         15068.83   \n",
       "\n",
       "   Exited  \n",
       "0       0  \n",
       "1       0  \n",
       "2       0  \n",
       "3       0  \n",
       "4       0  "
      ]
     },
     "execution_count": 3,
     "metadata": {},
     "output_type": "execute_result"
    }
   ],
   "source": [
    "#inspecting train dataset\n",
    "traindf.head(5)"
   ]
  },
  {
   "cell_type": "code",
   "execution_count": 4,
   "id": "f6343437",
   "metadata": {
    "_cell_guid": "6b741fb8-0b96-45b2-a8ff-6646f1e7f2f9",
    "_uuid": "7b76c5d4-243c-42ff-a1c5-f1d82092d6c1",
    "collapsed": false,
    "execution": {
     "iopub.execute_input": "2024-01-28T06:11:24.968534Z",
     "iopub.status.busy": "2024-01-28T06:11:24.968095Z",
     "iopub.status.idle": "2024-01-28T06:11:24.988692Z",
     "shell.execute_reply": "2024-01-28T06:11:24.987563Z"
    },
    "jupyter": {
     "outputs_hidden": false
    },
    "papermill": {
     "duration": 0.044643,
     "end_time": "2024-01-28T06:11:24.991234",
     "exception": false,
     "start_time": "2024-01-28T06:11:24.946591",
     "status": "completed"
    },
    "tags": []
   },
   "outputs": [
    {
     "data": {
      "text/html": [
       "<div>\n",
       "<style scoped>\n",
       "    .dataframe tbody tr th:only-of-type {\n",
       "        vertical-align: middle;\n",
       "    }\n",
       "\n",
       "    .dataframe tbody tr th {\n",
       "        vertical-align: top;\n",
       "    }\n",
       "\n",
       "    .dataframe thead th {\n",
       "        text-align: right;\n",
       "    }\n",
       "</style>\n",
       "<table border=\"1\" class=\"dataframe\">\n",
       "  <thead>\n",
       "    <tr style=\"text-align: right;\">\n",
       "      <th></th>\n",
       "      <th>id</th>\n",
       "      <th>CustomerId</th>\n",
       "      <th>Surname</th>\n",
       "      <th>CreditScore</th>\n",
       "      <th>Geography</th>\n",
       "      <th>Gender</th>\n",
       "      <th>Age</th>\n",
       "      <th>Tenure</th>\n",
       "      <th>Balance</th>\n",
       "      <th>NumOfProducts</th>\n",
       "      <th>HasCrCard</th>\n",
       "      <th>IsActiveMember</th>\n",
       "      <th>EstimatedSalary</th>\n",
       "    </tr>\n",
       "  </thead>\n",
       "  <tbody>\n",
       "    <tr>\n",
       "      <th>0</th>\n",
       "      <td>165034</td>\n",
       "      <td>15773898</td>\n",
       "      <td>Lucchese</td>\n",
       "      <td>586</td>\n",
       "      <td>France</td>\n",
       "      <td>Female</td>\n",
       "      <td>23.0</td>\n",
       "      <td>2</td>\n",
       "      <td>0.00</td>\n",
       "      <td>2</td>\n",
       "      <td>0.0</td>\n",
       "      <td>1.0</td>\n",
       "      <td>160976.75</td>\n",
       "    </tr>\n",
       "    <tr>\n",
       "      <th>1</th>\n",
       "      <td>165035</td>\n",
       "      <td>15782418</td>\n",
       "      <td>Nott</td>\n",
       "      <td>683</td>\n",
       "      <td>France</td>\n",
       "      <td>Female</td>\n",
       "      <td>46.0</td>\n",
       "      <td>2</td>\n",
       "      <td>0.00</td>\n",
       "      <td>1</td>\n",
       "      <td>1.0</td>\n",
       "      <td>0.0</td>\n",
       "      <td>72549.27</td>\n",
       "    </tr>\n",
       "    <tr>\n",
       "      <th>2</th>\n",
       "      <td>165036</td>\n",
       "      <td>15807120</td>\n",
       "      <td>K?</td>\n",
       "      <td>656</td>\n",
       "      <td>France</td>\n",
       "      <td>Female</td>\n",
       "      <td>34.0</td>\n",
       "      <td>7</td>\n",
       "      <td>0.00</td>\n",
       "      <td>2</td>\n",
       "      <td>1.0</td>\n",
       "      <td>0.0</td>\n",
       "      <td>138882.09</td>\n",
       "    </tr>\n",
       "    <tr>\n",
       "      <th>3</th>\n",
       "      <td>165037</td>\n",
       "      <td>15808905</td>\n",
       "      <td>O'Donnell</td>\n",
       "      <td>681</td>\n",
       "      <td>France</td>\n",
       "      <td>Male</td>\n",
       "      <td>36.0</td>\n",
       "      <td>8</td>\n",
       "      <td>0.00</td>\n",
       "      <td>1</td>\n",
       "      <td>1.0</td>\n",
       "      <td>0.0</td>\n",
       "      <td>113931.57</td>\n",
       "    </tr>\n",
       "    <tr>\n",
       "      <th>4</th>\n",
       "      <td>165038</td>\n",
       "      <td>15607314</td>\n",
       "      <td>Higgins</td>\n",
       "      <td>752</td>\n",
       "      <td>Germany</td>\n",
       "      <td>Male</td>\n",
       "      <td>38.0</td>\n",
       "      <td>10</td>\n",
       "      <td>121263.62</td>\n",
       "      <td>1</td>\n",
       "      <td>1.0</td>\n",
       "      <td>0.0</td>\n",
       "      <td>139431.00</td>\n",
       "    </tr>\n",
       "  </tbody>\n",
       "</table>\n",
       "</div>"
      ],
      "text/plain": [
       "       id  CustomerId    Surname  CreditScore Geography  Gender   Age  Tenure  \\\n",
       "0  165034    15773898   Lucchese          586    France  Female  23.0       2   \n",
       "1  165035    15782418       Nott          683    France  Female  46.0       2   \n",
       "2  165036    15807120         K?          656    France  Female  34.0       7   \n",
       "3  165037    15808905  O'Donnell          681    France    Male  36.0       8   \n",
       "4  165038    15607314    Higgins          752   Germany    Male  38.0      10   \n",
       "\n",
       "     Balance  NumOfProducts  HasCrCard  IsActiveMember  EstimatedSalary  \n",
       "0       0.00              2        0.0             1.0        160976.75  \n",
       "1       0.00              1        1.0             0.0         72549.27  \n",
       "2       0.00              2        1.0             0.0        138882.09  \n",
       "3       0.00              1        1.0             0.0        113931.57  \n",
       "4  121263.62              1        1.0             0.0        139431.00  "
      ]
     },
     "execution_count": 4,
     "metadata": {},
     "output_type": "execute_result"
    }
   ],
   "source": [
    "#inspecting test dataset\n",
    "testdf.head(5)"
   ]
  },
  {
   "cell_type": "code",
   "execution_count": 5,
   "id": "f5d7f9ee",
   "metadata": {
    "_cell_guid": "cb003da7-97af-484a-9c05-614a9e2bd106",
    "_uuid": "81f85a92-db38-4dc1-a676-909897b20b82",
    "collapsed": false,
    "execution": {
     "iopub.execute_input": "2024-01-28T06:11:25.034769Z",
     "iopub.status.busy": "2024-01-28T06:11:25.034331Z",
     "iopub.status.idle": "2024-01-28T06:11:25.042092Z",
     "shell.execute_reply": "2024-01-28T06:11:25.040659Z"
    },
    "jupyter": {
     "outputs_hidden": false
    },
    "papermill": {
     "duration": 0.032234,
     "end_time": "2024-01-28T06:11:25.044682",
     "exception": false,
     "start_time": "2024-01-28T06:11:25.012448",
     "status": "completed"
    },
    "tags": []
   },
   "outputs": [
    {
     "data": {
      "text/plain": [
       "(165034, 14)"
      ]
     },
     "execution_count": 5,
     "metadata": {},
     "output_type": "execute_result"
    }
   ],
   "source": [
    "#train dataset shape\n",
    "traindf.shape"
   ]
  },
  {
   "cell_type": "code",
   "execution_count": 6,
   "id": "d49ed1df",
   "metadata": {
    "_cell_guid": "7fc8d3a3-23bf-47b9-b6ff-d60f0ef9bfcb",
    "_uuid": "e5963f9c-fb3f-477d-8585-2434911064e3",
    "collapsed": false,
    "execution": {
     "iopub.execute_input": "2024-01-28T06:11:25.088862Z",
     "iopub.status.busy": "2024-01-28T06:11:25.088409Z",
     "iopub.status.idle": "2024-01-28T06:11:25.095967Z",
     "shell.execute_reply": "2024-01-28T06:11:25.094877Z"
    },
    "jupyter": {
     "outputs_hidden": false
    },
    "papermill": {
     "duration": 0.032583,
     "end_time": "2024-01-28T06:11:25.098681",
     "exception": false,
     "start_time": "2024-01-28T06:11:25.066098",
     "status": "completed"
    },
    "tags": []
   },
   "outputs": [
    {
     "data": {
      "text/plain": [
       "(110023, 13)"
      ]
     },
     "execution_count": 6,
     "metadata": {},
     "output_type": "execute_result"
    }
   ],
   "source": [
    "#test dataset shape\n",
    "testdf.shape"
   ]
  },
  {
   "cell_type": "code",
   "execution_count": 7,
   "id": "7c0bae77",
   "metadata": {
    "_cell_guid": "35be9a3e-45cb-49b0-951f-a0b281f3641b",
    "_uuid": "59c50a37-3488-47ce-a6d2-1e600095556f",
    "collapsed": false,
    "execution": {
     "iopub.execute_input": "2024-01-28T06:11:25.142025Z",
     "iopub.status.busy": "2024-01-28T06:11:25.141619Z",
     "iopub.status.idle": "2024-01-28T06:11:25.226357Z",
     "shell.execute_reply": "2024-01-28T06:11:25.224361Z"
    },
    "jupyter": {
     "outputs_hidden": false
    },
    "papermill": {
     "duration": 0.109469,
     "end_time": "2024-01-28T06:11:25.229181",
     "exception": false,
     "start_time": "2024-01-28T06:11:25.119712",
     "status": "completed"
    },
    "tags": []
   },
   "outputs": [
    {
     "name": "stdout",
     "output_type": "stream",
     "text": [
      "<class 'pandas.core.frame.DataFrame'>\n",
      "RangeIndex: 165034 entries, 0 to 165033\n",
      "Data columns (total 14 columns):\n",
      " #   Column           Non-Null Count   Dtype  \n",
      "---  ------           --------------   -----  \n",
      " 0   id               165034 non-null  int64  \n",
      " 1   CustomerId       165034 non-null  int64  \n",
      " 2   Surname          165034 non-null  object \n",
      " 3   CreditScore      165034 non-null  int64  \n",
      " 4   Geography        165034 non-null  object \n",
      " 5   Gender           165034 non-null  object \n",
      " 6   Age              165034 non-null  float64\n",
      " 7   Tenure           165034 non-null  int64  \n",
      " 8   Balance          165034 non-null  float64\n",
      " 9   NumOfProducts    165034 non-null  int64  \n",
      " 10  HasCrCard        165034 non-null  float64\n",
      " 11  IsActiveMember   165034 non-null  float64\n",
      " 12  EstimatedSalary  165034 non-null  float64\n",
      " 13  Exited           165034 non-null  int64  \n",
      "dtypes: float64(5), int64(6), object(3)\n",
      "memory usage: 17.6+ MB\n"
     ]
    }
   ],
   "source": [
    "#train dataset column info\n",
    "traindf.info()"
   ]
  },
  {
   "cell_type": "code",
   "execution_count": 8,
   "id": "e60656bb",
   "metadata": {
    "_cell_guid": "dd083341-ab15-40ab-97c6-5296f301bd14",
    "_uuid": "cd2966ef-f576-44e4-833c-609d6d0fff3d",
    "collapsed": false,
    "execution": {
     "iopub.execute_input": "2024-01-28T06:11:25.273275Z",
     "iopub.status.busy": "2024-01-28T06:11:25.272857Z",
     "iopub.status.idle": "2024-01-28T06:11:25.321869Z",
     "shell.execute_reply": "2024-01-28T06:11:25.320358Z"
    },
    "jupyter": {
     "outputs_hidden": false
    },
    "papermill": {
     "duration": 0.074065,
     "end_time": "2024-01-28T06:11:25.324437",
     "exception": false,
     "start_time": "2024-01-28T06:11:25.250372",
     "status": "completed"
    },
    "tags": []
   },
   "outputs": [
    {
     "name": "stdout",
     "output_type": "stream",
     "text": [
      "<class 'pandas.core.frame.DataFrame'>\n",
      "RangeIndex: 110023 entries, 0 to 110022\n",
      "Data columns (total 13 columns):\n",
      " #   Column           Non-Null Count   Dtype  \n",
      "---  ------           --------------   -----  \n",
      " 0   id               110023 non-null  int64  \n",
      " 1   CustomerId       110023 non-null  int64  \n",
      " 2   Surname          110023 non-null  object \n",
      " 3   CreditScore      110023 non-null  int64  \n",
      " 4   Geography        110023 non-null  object \n",
      " 5   Gender           110023 non-null  object \n",
      " 6   Age              110023 non-null  float64\n",
      " 7   Tenure           110023 non-null  int64  \n",
      " 8   Balance          110023 non-null  float64\n",
      " 9   NumOfProducts    110023 non-null  int64  \n",
      " 10  HasCrCard        110023 non-null  float64\n",
      " 11  IsActiveMember   110023 non-null  float64\n",
      " 12  EstimatedSalary  110023 non-null  float64\n",
      "dtypes: float64(5), int64(5), object(3)\n",
      "memory usage: 10.9+ MB\n"
     ]
    }
   ],
   "source": [
    "#train dataset column info\n",
    "testdf.info()"
   ]
  },
  {
   "cell_type": "code",
   "execution_count": 9,
   "id": "fbfbb811",
   "metadata": {
    "_cell_guid": "0a1a4535-ed97-47f3-a5fd-c8275eabb514",
    "_uuid": "2d492fca-48cc-4b76-b3b8-e08f3c8c0f61",
    "collapsed": false,
    "execution": {
     "iopub.execute_input": "2024-01-28T06:11:25.369681Z",
     "iopub.status.busy": "2024-01-28T06:11:25.369270Z",
     "iopub.status.idle": "2024-01-28T06:11:25.379394Z",
     "shell.execute_reply": "2024-01-28T06:11:25.378585Z"
    },
    "jupyter": {
     "outputs_hidden": false
    },
    "papermill": {
     "duration": 0.035832,
     "end_time": "2024-01-28T06:11:25.381512",
     "exception": false,
     "start_time": "2024-01-28T06:11:25.345680",
     "status": "completed"
    },
    "tags": []
   },
   "outputs": [
    {
     "data": {
      "text/html": [
       "<div>\n",
       "<style scoped>\n",
       "    .dataframe tbody tr th:only-of-type {\n",
       "        vertical-align: middle;\n",
       "    }\n",
       "\n",
       "    .dataframe tbody tr th {\n",
       "        vertical-align: top;\n",
       "    }\n",
       "\n",
       "    .dataframe thead th {\n",
       "        text-align: right;\n",
       "    }\n",
       "</style>\n",
       "<table border=\"1\" class=\"dataframe\">\n",
       "  <thead>\n",
       "    <tr style=\"text-align: right;\">\n",
       "      <th></th>\n",
       "      <th>id</th>\n",
       "      <th>Exited</th>\n",
       "    </tr>\n",
       "  </thead>\n",
       "  <tbody>\n",
       "    <tr>\n",
       "      <th>0</th>\n",
       "      <td>165034</td>\n",
       "      <td>0.5</td>\n",
       "    </tr>\n",
       "    <tr>\n",
       "      <th>1</th>\n",
       "      <td>165035</td>\n",
       "      <td>0.5</td>\n",
       "    </tr>\n",
       "    <tr>\n",
       "      <th>2</th>\n",
       "      <td>165036</td>\n",
       "      <td>0.5</td>\n",
       "    </tr>\n",
       "    <tr>\n",
       "      <th>3</th>\n",
       "      <td>165037</td>\n",
       "      <td>0.5</td>\n",
       "    </tr>\n",
       "    <tr>\n",
       "      <th>4</th>\n",
       "      <td>165038</td>\n",
       "      <td>0.5</td>\n",
       "    </tr>\n",
       "  </tbody>\n",
       "</table>\n",
       "</div>"
      ],
      "text/plain": [
       "       id  Exited\n",
       "0  165034     0.5\n",
       "1  165035     0.5\n",
       "2  165036     0.5\n",
       "3  165037     0.5\n",
       "4  165038     0.5"
      ]
     },
     "execution_count": 9,
     "metadata": {},
     "output_type": "execute_result"
    }
   ],
   "source": [
    "#inspecting how to submit\n",
    "sampledf.head(5)"
   ]
  },
  {
   "cell_type": "markdown",
   "id": "63996706",
   "metadata": {
    "papermill": {
     "duration": 0.02109,
     "end_time": "2024-01-28T06:11:25.489121",
     "exception": false,
     "start_time": "2024-01-28T06:11:25.468031",
     "status": "completed"
    },
    "tags": []
   },
   "source": [
    "## **Exploratory Data Analysis**"
   ]
  },
  {
   "cell_type": "code",
   "execution_count": 10,
   "id": "e09dd7be",
   "metadata": {
    "_cell_guid": "bd493269-fc7c-43ad-b800-7cbdee021cef",
    "_uuid": "fa8113b2-2410-4cff-b01c-1950b0c39f5d",
    "collapsed": false,
    "execution": {
     "iopub.execute_input": "2024-01-28T06:11:25.533307Z",
     "iopub.status.busy": "2024-01-28T06:11:25.532902Z",
     "iopub.status.idle": "2024-01-28T06:11:25.594770Z",
     "shell.execute_reply": "2024-01-28T06:11:25.593369Z"
    },
    "jupyter": {
     "outputs_hidden": false
    },
    "papermill": {
     "duration": 0.086813,
     "end_time": "2024-01-28T06:11:25.597239",
     "exception": false,
     "start_time": "2024-01-28T06:11:25.510426",
     "status": "completed"
    },
    "tags": []
   },
   "outputs": [
    {
     "data": {
      "text/plain": [
       "id                 0\n",
       "CustomerId         0\n",
       "Surname            0\n",
       "CreditScore        0\n",
       "Geography          0\n",
       "Gender             0\n",
       "Age                0\n",
       "Tenure             0\n",
       "Balance            0\n",
       "NumOfProducts      0\n",
       "HasCrCard          0\n",
       "IsActiveMember     0\n",
       "EstimatedSalary    0\n",
       "Exited             0\n",
       "dtype: int64"
      ]
     },
     "execution_count": 10,
     "metadata": {},
     "output_type": "execute_result"
    }
   ],
   "source": [
    "#checking for null values -> train dataset\n",
    "traindf.isnull().sum()"
   ]
  },
  {
   "cell_type": "code",
   "execution_count": 11,
   "id": "3f936f5e",
   "metadata": {
    "_cell_guid": "665b93f7-8d2d-4827-a771-112d1ec2aaaa",
    "_uuid": "11ef0a82-366b-4df8-9313-1f3f6e77e361",
    "collapsed": false,
    "execution": {
     "iopub.execute_input": "2024-01-28T06:11:25.642341Z",
     "iopub.status.busy": "2024-01-28T06:11:25.641634Z",
     "iopub.status.idle": "2024-01-28T06:11:25.686544Z",
     "shell.execute_reply": "2024-01-28T06:11:25.685418Z"
    },
    "jupyter": {
     "outputs_hidden": false
    },
    "papermill": {
     "duration": 0.070592,
     "end_time": "2024-01-28T06:11:25.689193",
     "exception": false,
     "start_time": "2024-01-28T06:11:25.618601",
     "status": "completed"
    },
    "tags": []
   },
   "outputs": [
    {
     "data": {
      "text/plain": [
       "id                 0\n",
       "CustomerId         0\n",
       "Surname            0\n",
       "CreditScore        0\n",
       "Geography          0\n",
       "Gender             0\n",
       "Age                0\n",
       "Tenure             0\n",
       "Balance            0\n",
       "NumOfProducts      0\n",
       "HasCrCard          0\n",
       "IsActiveMember     0\n",
       "EstimatedSalary    0\n",
       "dtype: int64"
      ]
     },
     "execution_count": 11,
     "metadata": {},
     "output_type": "execute_result"
    }
   ],
   "source": [
    "#checking for null values -> test dataset\n",
    "testdf.isnull().sum()"
   ]
  },
  {
   "cell_type": "code",
   "execution_count": 12,
   "id": "44e79d37",
   "metadata": {
    "_cell_guid": "c186560b-1d50-41dd-aee7-0b4d4a9201a0",
    "_uuid": "8eb7fc91-5cc8-48a8-915a-27e70ca31f80",
    "collapsed": false,
    "execution": {
     "iopub.execute_input": "2024-01-28T06:11:25.736548Z",
     "iopub.status.busy": "2024-01-28T06:11:25.735207Z",
     "iopub.status.idle": "2024-01-28T06:11:25.855359Z",
     "shell.execute_reply": "2024-01-28T06:11:25.854112Z"
    },
    "jupyter": {
     "outputs_hidden": false
    },
    "papermill": {
     "duration": 0.146541,
     "end_time": "2024-01-28T06:11:25.858168",
     "exception": false,
     "start_time": "2024-01-28T06:11:25.711627",
     "status": "completed"
    },
    "tags": []
   },
   "outputs": [
    {
     "data": {
      "text/plain": [
       "0"
      ]
     },
     "execution_count": 12,
     "metadata": {},
     "output_type": "execute_result"
    }
   ],
   "source": [
    "#checking for duplicates -> train dataset\n",
    "traindf.duplicated().sum()"
   ]
  },
  {
   "cell_type": "code",
   "execution_count": 13,
   "id": "69b78fc6",
   "metadata": {
    "_cell_guid": "8fe10435-4b3f-4b68-a62d-f31f8478a9b5",
    "_uuid": "b3ba6ea9-6082-42a3-879b-d69e354362ad",
    "collapsed": false,
    "execution": {
     "iopub.execute_input": "2024-01-28T06:11:25.902956Z",
     "iopub.status.busy": "2024-01-28T06:11:25.902510Z",
     "iopub.status.idle": "2024-01-28T06:11:25.980322Z",
     "shell.execute_reply": "2024-01-28T06:11:25.978944Z"
    },
    "jupyter": {
     "outputs_hidden": false
    },
    "papermill": {
     "duration": 0.10351,
     "end_time": "2024-01-28T06:11:25.983171",
     "exception": false,
     "start_time": "2024-01-28T06:11:25.879661",
     "status": "completed"
    },
    "tags": []
   },
   "outputs": [
    {
     "data": {
      "text/plain": [
       "0"
      ]
     },
     "execution_count": 13,
     "metadata": {},
     "output_type": "execute_result"
    }
   ],
   "source": [
    "#checking for duplicates -> test dataset\n",
    "testdf.duplicated().sum()"
   ]
  },
  {
   "cell_type": "code",
   "execution_count": 14,
   "id": "87b4fdbe",
   "metadata": {
    "_cell_guid": "6e30dd77-f096-4958-ad19-540ed4f2dfc5",
    "_uuid": "4218b3e3-da8f-4ab2-880f-bf2d2bbb613d",
    "collapsed": false,
    "execution": {
     "iopub.execute_input": "2024-01-28T06:11:26.028920Z",
     "iopub.status.busy": "2024-01-28T06:11:26.028517Z",
     "iopub.status.idle": "2024-01-28T06:11:26.038108Z",
     "shell.execute_reply": "2024-01-28T06:11:26.037254Z"
    },
    "jupyter": {
     "outputs_hidden": false
    },
    "papermill": {
     "duration": 0.035208,
     "end_time": "2024-01-28T06:11:26.040357",
     "exception": false,
     "start_time": "2024-01-28T06:11:26.005149",
     "status": "completed"
    },
    "tags": []
   },
   "outputs": [
    {
     "data": {
      "text/plain": [
       "Exited\n",
       "0    130113\n",
       "1     34921\n",
       "Name: count, dtype: int64"
      ]
     },
     "execution_count": 14,
     "metadata": {},
     "output_type": "execute_result"
    }
   ],
   "source": [
    "#inspecting the target value\n",
    "exited_unique = traindf['Exited'].value_counts()\n",
    "exited_unique"
   ]
  },
  {
   "cell_type": "code",
   "execution_count": 15,
   "id": "1c9337e6",
   "metadata": {
    "_cell_guid": "0019a3be-17be-47e5-b58c-7f624c55278f",
    "_uuid": "84adcadb-2907-46bd-9166-82ead4661294",
    "collapsed": false,
    "execution": {
     "iopub.execute_input": "2024-01-28T06:11:26.086702Z",
     "iopub.status.busy": "2024-01-28T06:11:26.086281Z",
     "iopub.status.idle": "2024-01-28T06:11:26.111263Z",
     "shell.execute_reply": "2024-01-28T06:11:26.109925Z"
    },
    "jupyter": {
     "outputs_hidden": false
    },
    "papermill": {
     "duration": 0.05106,
     "end_time": "2024-01-28T06:11:26.114069",
     "exception": false,
     "start_time": "2024-01-28T06:11:26.063009",
     "status": "completed"
    },
    "tags": []
   },
   "outputs": [],
   "source": [
    "#dissecting the dataset\n",
    "churn_df = traindf[traindf['Exited'] == 1]\n",
    "nonchurn_df = traindf[traindf['Exited'] == 0]"
   ]
  },
  {
   "cell_type": "markdown",
   "id": "7513df4a",
   "metadata": {
    "_cell_guid": "584bc895-f387-4d8b-a9c9-1adcf76cea9f",
    "_uuid": "d643631d-e175-4180-887f-eee793583833",
    "papermill": {
     "duration": 0.021752,
     "end_time": "2024-01-28T06:11:26.159248",
     "exception": false,
     "start_time": "2024-01-28T06:11:26.137496",
     "status": "completed"
    },
    "tags": []
   },
   "source": [
    "### **Age**\n",
    "*How does the age distribution compare between churned and non-churned groups?*"
   ]
  },
  {
   "cell_type": "code",
   "execution_count": 16,
   "id": "0f59107c",
   "metadata": {
    "_cell_guid": "37eb2a79-f4eb-45b6-83c0-dc89e979ca3a",
    "_uuid": "da0d9fb0-e747-49bd-b93b-ae5b95aa9295",
    "collapsed": false,
    "execution": {
     "iopub.execute_input": "2024-01-28T06:11:26.204964Z",
     "iopub.status.busy": "2024-01-28T06:11:26.204497Z",
     "iopub.status.idle": "2024-01-28T06:11:26.213876Z",
     "shell.execute_reply": "2024-01-28T06:11:26.212619Z"
    },
    "jupyter": {
     "outputs_hidden": false
    },
    "papermill": {
     "duration": 0.035428,
     "end_time": "2024-01-28T06:11:26.216614",
     "exception": false,
     "start_time": "2024-01-28T06:11:26.181186",
     "status": "completed"
    },
    "tags": []
   },
   "outputs": [
    {
     "name": "stdout",
     "output_type": "stream",
     "text": [
      "Average age of churned customers: 43.96\n",
      "Average age of non-churn customers: 36.56\n",
      "==> The average age of churned customers is higher than that of the non-churn customers.\n"
     ]
    }
   ],
   "source": [
    "average_age_churned = churn_df['Age'].mean()\n",
    "average_age_nonchurn = nonchurn_df['Age'].mean()\n",
    "\n",
    "print(\"Average age of churned customers:\", round(average_age_churned,2))\n",
    "print(\"Average age of non-churn customers:\", round(average_age_nonchurn,2))\n",
    "\n",
    "if average_age_churned > average_age_nonchurn:\n",
    "    print(\"==> The average age of churned customers is higher than that of the non-churn customers.\")\n",
    "elif average_age_churned < average_age_nonchurn:\n",
    "    print(\"==> The average age of non-churn customers is higher than that of the churned customers.\")\n",
    "else:\n",
    "    print(\"==> The average age of churned customers is equal to the average age of non-churn customers.\")"
   ]
  },
  {
   "cell_type": "markdown",
   "id": "e89c6b9c",
   "metadata": {
    "_cell_guid": "bd034d92-3070-45ee-a0f3-65f0b40cb594",
    "_uuid": "3a52bde5-8ca7-4f33-af5f-74cf88d9a047",
    "papermill": {
     "duration": 0.022742,
     "end_time": "2024-01-28T06:11:26.262189",
     "exception": false,
     "start_time": "2024-01-28T06:11:26.239447",
     "status": "completed"
    },
    "tags": []
   },
   "source": [
    "### **Credit Score**\n",
    "*How does the distribution of credit scores differ between churned and non-churned customers?*"
   ]
  },
  {
   "cell_type": "code",
   "execution_count": 17,
   "id": "0c476c37",
   "metadata": {
    "_cell_guid": "77c87e05-7b2c-4626-b7df-56b67196521a",
    "_uuid": "3ca6cf6d-05e8-4ff7-aac9-e4281cff1413",
    "collapsed": false,
    "execution": {
     "iopub.execute_input": "2024-01-28T06:11:26.308197Z",
     "iopub.status.busy": "2024-01-28T06:11:26.307793Z",
     "iopub.status.idle": "2024-01-28T06:11:26.317059Z",
     "shell.execute_reply": "2024-01-28T06:11:26.315758Z"
    },
    "jupyter": {
     "outputs_hidden": false
    },
    "papermill": {
     "duration": 0.03518,
     "end_time": "2024-01-28T06:11:26.319346",
     "exception": false,
     "start_time": "2024-01-28T06:11:26.284166",
     "status": "completed"
    },
    "tags": []
   },
   "outputs": [
    {
     "name": "stdout",
     "output_type": "stream",
     "text": [
      "Average CreditScore of churned customers: 652.22\n",
      "Average CreditScore of non-churn customers: 657.59\n",
      "==> The average CreditScore of non-churn customers is higher than that of the churned customers.\n"
     ]
    }
   ],
   "source": [
    "average_creditscore_churned = churn_df['CreditScore'].mean()\n",
    "average_creditscore_nonchurn = nonchurn_df['CreditScore'].mean()\n",
    "\n",
    "print(\"Average CreditScore of churned customers:\", round(average_creditscore_churned,2))\n",
    "print(\"Average CreditScore of non-churn customers:\", round(average_creditscore_nonchurn,2))\n",
    "\n",
    "if average_creditscore_churned > average_creditscore_nonchurn:\n",
    "    print(\"==> The average CreditScore of churned customers is higher than that of the non-churn customers.\")\n",
    "elif average_creditscore_churned < average_creditscore_nonchurn:\n",
    "    print(\"==> The average CreditScore of non-churn customers is higher than that of the churned customers.\")\n",
    "else:\n",
    "    print(\"==> The average CreditScore of churned customers is equal to the average age of non-churn customers.\")"
   ]
  },
  {
   "cell_type": "markdown",
   "id": "cab36c24",
   "metadata": {
    "_cell_guid": "81456bb2-21ef-4c75-a979-b79b1a3f1249",
    "_uuid": "2426dfd5-704a-497c-8740-039bdf486feb",
    "papermill": {
     "duration": 0.021788,
     "end_time": "2024-01-28T06:11:26.363507",
     "exception": false,
     "start_time": "2024-01-28T06:11:26.341719",
     "status": "completed"
    },
    "tags": []
   },
   "source": [
    "### **Account Balance**\n",
    "*How does the distribution of account balances differ between churned and non-churned customers?*"
   ]
  },
  {
   "cell_type": "code",
   "execution_count": 18,
   "id": "7aff6f89",
   "metadata": {
    "_cell_guid": "b7c508ee-da77-4040-930a-7a4be302a4a3",
    "_uuid": "add49fbf-2376-476b-b541-6e16ad7b94a7",
    "collapsed": false,
    "execution": {
     "iopub.execute_input": "2024-01-28T06:11:26.409815Z",
     "iopub.status.busy": "2024-01-28T06:11:26.409388Z",
     "iopub.status.idle": "2024-01-28T06:11:26.419340Z",
     "shell.execute_reply": "2024-01-28T06:11:26.417995Z"
    },
    "jupyter": {
     "outputs_hidden": false
    },
    "papermill": {
     "duration": 0.036022,
     "end_time": "2024-01-28T06:11:26.421824",
     "exception": false,
     "start_time": "2024-01-28T06:11:26.385802",
     "status": "completed"
    },
    "tags": []
   },
   "outputs": [
    {
     "name": "stdout",
     "output_type": "stream",
     "text": [
      "Average AccountBalance of churned customers: 71209.98\n",
      "Average AccountBalance of non-churn customers: 51255.81\n",
      "==> The average AccountBalance of churned customers is higher than that of the non-churn customers.\n"
     ]
    }
   ],
   "source": [
    "average_accountbalance_churned = churn_df['Balance'].mean()\n",
    "average_accountbalance_nonchurn = nonchurn_df['Balance'].mean()\n",
    "\n",
    "print(\"Average AccountBalance of churned customers:\", round(average_accountbalance_churned,2))\n",
    "print(\"Average AccountBalance of non-churn customers:\", round(average_accountbalance_nonchurn,2))\n",
    "\n",
    "if average_accountbalance_churned > average_accountbalance_nonchurn:\n",
    "    print(\"==> The average AccountBalance of churned customers is higher than that of the non-churn customers.\")\n",
    "elif average_accountbalance_churned < average_accountbalance_nonchurn:\n",
    "    print(\"==> The average AccountBalance of non-churn customers is higher than that of the churned customers.\")\n",
    "else:\n",
    "    print(\"==> The average AccountBalance of churned customers is equal to the average age of non-churn customers.\")"
   ]
  },
  {
   "cell_type": "markdown",
   "id": "54c31454",
   "metadata": {
    "_cell_guid": "017619dd-3508-4459-8c49-79071ca811b7",
    "_uuid": "0c09047f-8f3d-41a5-a634-996723b24c30",
    "papermill": {
     "duration": 0.02195,
     "end_time": "2024-01-28T06:11:26.466051",
     "exception": false,
     "start_time": "2024-01-28T06:11:26.444101",
     "status": "completed"
    },
    "tags": []
   },
   "source": [
    "### **Estimated Salary**\n",
    "*Is there a discernible pattern in the distribution of estimated salaries between churned and non-churned customers?*"
   ]
  },
  {
   "cell_type": "code",
   "execution_count": 19,
   "id": "28f6e0d6",
   "metadata": {
    "_cell_guid": "09ec9fa5-a1aa-4133-a237-1410be0c9129",
    "_uuid": "51418b2f-2cdb-4fb9-ad99-8b4471ee2c5d",
    "collapsed": false,
    "execution": {
     "iopub.execute_input": "2024-01-28T06:11:26.512903Z",
     "iopub.status.busy": "2024-01-28T06:11:26.512469Z",
     "iopub.status.idle": "2024-01-28T06:11:26.523105Z",
     "shell.execute_reply": "2024-01-28T06:11:26.521564Z"
    },
    "jupyter": {
     "outputs_hidden": false
    },
    "papermill": {
     "duration": 0.036938,
     "end_time": "2024-01-28T06:11:26.525455",
     "exception": false,
     "start_time": "2024-01-28T06:11:26.488517",
     "status": "completed"
    },
    "tags": []
   },
   "outputs": [
    {
     "name": "stdout",
     "output_type": "stream",
     "text": [
      "Average EstimatedSalary of churned customers: 114402.5\n",
      "Average EstimatedSalary of non-churn customers: 112084.29\n",
      "==> The average EstimatedSalary of churned customers is higher than that of the non-churn customers.\n"
     ]
    }
   ],
   "source": [
    "average_estimatedsalary_churned = churn_df['EstimatedSalary'].mean()\n",
    "average_estimatedsalary_nonchurn = nonchurn_df['EstimatedSalary'].mean()\n",
    "\n",
    "print(\"Average EstimatedSalary of churned customers:\", round(average_estimatedsalary_churned,2))\n",
    "print(\"Average EstimatedSalary of non-churn customers:\", round(average_estimatedsalary_nonchurn,2))\n",
    "\n",
    "if average_estimatedsalary_churned > average_estimatedsalary_nonchurn:\n",
    "    print(\"==> The average EstimatedSalary of churned customers is higher than that of the non-churn customers.\")\n",
    "elif average_estimatedsalary_churned < average_estimatedsalary_nonchurn:\n",
    "    print(\"==> The average EstimatedSalary of non-churn customers is higher than that of the churned customers.\")\n",
    "else:\n",
    "    print(\"==> The average EstimatedSalary of churned customers is equal to the average age of non-churn customers.\")"
   ]
  },
  {
   "cell_type": "markdown",
   "id": "e9fa50ae",
   "metadata": {
    "_cell_guid": "97b8edfb-caa0-49c7-9a68-da8fbc47f44a",
    "_uuid": "b84b5cea-859e-4ab0-874f-ffc43e1c8226",
    "papermill": {
     "duration": 0.022107,
     "end_time": "2024-01-28T06:11:26.570566",
     "exception": false,
     "start_time": "2024-01-28T06:11:26.548459",
     "status": "completed"
    },
    "tags": []
   },
   "source": [
    "### **Tenure**\n",
    "*What is the relationship between tenure and churn status?*"
   ]
  },
  {
   "cell_type": "code",
   "execution_count": 20,
   "id": "289f04a7",
   "metadata": {
    "_cell_guid": "c606586c-fa9b-4e56-9278-1b0592b7dfb5",
    "_uuid": "7f684e75-a402-483a-b53d-fc9e2b35d18f",
    "collapsed": false,
    "execution": {
     "iopub.execute_input": "2024-01-28T06:11:26.618235Z",
     "iopub.status.busy": "2024-01-28T06:11:26.617795Z",
     "iopub.status.idle": "2024-01-28T06:11:26.627014Z",
     "shell.execute_reply": "2024-01-28T06:11:26.625812Z"
    },
    "jupyter": {
     "outputs_hidden": false
    },
    "papermill": {
     "duration": 0.035488,
     "end_time": "2024-01-28T06:11:26.629577",
     "exception": false,
     "start_time": "2024-01-28T06:11:26.594089",
     "status": "completed"
    },
    "tags": []
   },
   "outputs": [
    {
     "name": "stdout",
     "output_type": "stream",
     "text": [
      "Average Tenure of churned customers: 4.91\n",
      "Average Tenure of non-churn customers: 5.05\n",
      "==> The average Tenure of non-churn customers is higher than that of the churned customers.\n"
     ]
    }
   ],
   "source": [
    "average_tenure_churned = churn_df['Tenure'].mean()\n",
    "average_tenure_nonchurn = nonchurn_df['Tenure'].mean()\n",
    "\n",
    "print(\"Average Tenure of churned customers:\", round(average_tenure_churned,2))\n",
    "print(\"Average Tenure of non-churn customers:\", round(average_tenure_nonchurn,2))\n",
    "\n",
    "if average_tenure_churned > average_tenure_nonchurn:\n",
    "    print(\"==> The average Tenure of churned customers is higher than that of the non-churn customers.\")\n",
    "elif average_tenure_churned < average_tenure_nonchurn:\n",
    "    print(\"==> The average Tenure of non-churn customers is higher than that of the churned customers.\")\n",
    "else:\n",
    "    print(\"==> The average Tenure of churned customers is equal to the average age of non-churn customers.\")"
   ]
  },
  {
   "cell_type": "markdown",
   "id": "e86018b2",
   "metadata": {
    "_cell_guid": "5e44f4b7-2ab7-4528-92c4-518ce305af20",
    "_uuid": "af66cf26-3629-4552-b104-87fb2c38b903",
    "papermill": {
     "duration": 0.023036,
     "end_time": "2024-01-28T06:11:26.675508",
     "exception": false,
     "start_time": "2024-01-28T06:11:26.652472",
     "status": "completed"
    },
    "tags": []
   },
   "source": [
    "### **Number of Bank products**\n",
    "*Is there a significant difference in the average number of bank products used by churned and non-churned customers?*"
   ]
  },
  {
   "cell_type": "code",
   "execution_count": 21,
   "id": "a4386918",
   "metadata": {
    "_cell_guid": "1d1472f5-b403-483f-a01f-14ecb7aca6c2",
    "_uuid": "a9a73e90-af05-4c6c-a5ec-91b7490f9c5b",
    "collapsed": false,
    "execution": {
     "iopub.execute_input": "2024-01-28T06:11:26.723185Z",
     "iopub.status.busy": "2024-01-28T06:11:26.722764Z",
     "iopub.status.idle": "2024-01-28T06:11:26.732572Z",
     "shell.execute_reply": "2024-01-28T06:11:26.731374Z"
    },
    "jupyter": {
     "outputs_hidden": false
    },
    "papermill": {
     "duration": 0.036415,
     "end_time": "2024-01-28T06:11:26.735137",
     "exception": false,
     "start_time": "2024-01-28T06:11:26.698722",
     "status": "completed"
    },
    "tags": []
   },
   "outputs": [
    {
     "name": "stdout",
     "output_type": "stream",
     "text": [
      "Average Number_of_BankProducts of churned customers: 1.33\n",
      "Average Number_of_BankProducts of non-churn customers: 1.62\n",
      "==> The average Number_of_BankProducts of non-churn customers is higher than that of the churned customers.\n"
     ]
    }
   ],
   "source": [
    "average_products_churned = churn_df['NumOfProducts'].mean()\n",
    "average_products_nonchurn = nonchurn_df['NumOfProducts'].mean()\n",
    "\n",
    "print(\"Average Number_of_BankProducts of churned customers:\", round(average_products_churned,2))\n",
    "print(\"Average Number_of_BankProducts of non-churn customers:\", round(average_products_nonchurn,2))\n",
    "\n",
    "if average_products_churned > average_products_nonchurn:\n",
    "    print(\"==> The average Number_of_BankProducts of churned customers is higher than that of the non-churn customers.\")\n",
    "elif average_products_churned < average_products_nonchurn:\n",
    "    print(\"==> The average Number_of_BankProducts of non-churn customers is higher than that of the churned customers.\")\n",
    "else:\n",
    "    print(\"==> The average Number_of_BankProducts of churned customers is equal to the average age of non-churn customers.\")"
   ]
  },
  {
   "cell_type": "markdown",
   "id": "28d7fa74",
   "metadata": {
    "_cell_guid": "b0ccbd3c-094e-4e7e-8ca3-7d735e66b29a",
    "_uuid": "2abb8a0c-7b74-43fe-8646-e70ed81c2a7d",
    "papermill": {
     "duration": 0.02269,
     "end_time": "2024-01-28T06:11:26.781449",
     "exception": false,
     "start_time": "2024-01-28T06:11:26.758759",
     "status": "completed"
    },
    "tags": []
   },
   "source": [
    "### **Has a CreditCard**\n",
    "*Is there a significant disparity in credit card ownership between the two groups?*"
   ]
  },
  {
   "cell_type": "code",
   "execution_count": 22,
   "id": "b578245a",
   "metadata": {
    "_cell_guid": "49826c7e-279d-471f-83b3-e20ebf33a076",
    "_uuid": "89670fb5-5853-4731-8f90-77b7b691fb48",
    "collapsed": false,
    "execution": {
     "iopub.execute_input": "2024-01-28T06:11:26.830271Z",
     "iopub.status.busy": "2024-01-28T06:11:26.829891Z",
     "iopub.status.idle": "2024-01-28T06:11:26.839030Z",
     "shell.execute_reply": "2024-01-28T06:11:26.837854Z"
    },
    "jupyter": {
     "outputs_hidden": false
    },
    "papermill": {
     "duration": 0.036377,
     "end_time": "2024-01-28T06:11:26.841318",
     "exception": false,
     "start_time": "2024-01-28T06:11:26.804941",
     "status": "completed"
    },
    "tags": []
   },
   "outputs": [
    {
     "name": "stdout",
     "output_type": "stream",
     "text": [
      "Number of churned customers with CreditCard: 25686\n",
      "Number of non-churn customers with CreditCard: 9235\n",
      "==> Number of churned customers with CreditCard is higher than that of the non-churn customers.\n"
     ]
    }
   ],
   "source": [
    "count_hascrcard_churned = (churn_df['HasCrCard'] == 1).sum()\n",
    "count_hascrcard_nonchurn = (churn_df['HasCrCard'] == 0).sum()\n",
    "\n",
    "print(\"Number of churned customers with CreditCard:\", count_hascrcard_churned)\n",
    "print(\"Number of non-churn customers with CreditCard:\", count_hascrcard_nonchurn)\n",
    "\n",
    "if count_hascrcard_churned > count_hascrcard_nonchurn:\n",
    "    print(\"==> Number of churned customers with CreditCard is higher than that of the non-churn customers.\")\n",
    "elif count_hascrcard_churned < count_hascrcard_nonchurn:\n",
    "    print(\"==> Number of non-churn customers with CreditCard is higher than that of the churned customers.\")\n",
    "else:\n",
    "    print(\"==> Number of churned customers with CreditCard is equal to the average age of non-churn customers.\")"
   ]
  },
  {
   "cell_type": "markdown",
   "id": "d3ccd178",
   "metadata": {
    "_cell_guid": "530d4845-86d7-40ea-a25c-6b70db2f19d0",
    "_uuid": "8e080283-c788-4cab-ac76-160e716b1950",
    "papermill": {
     "duration": 0.022389,
     "end_time": "2024-01-28T06:11:26.887065",
     "exception": false,
     "start_time": "2024-01-28T06:11:26.864676",
     "status": "completed"
    },
    "tags": []
   },
   "source": [
    "### **Active Member**\n",
    "*Are inactive customers more likely to churn, as suggested by the data?*"
   ]
  },
  {
   "cell_type": "code",
   "execution_count": 23,
   "id": "c1f348e2",
   "metadata": {
    "_cell_guid": "fd1becf9-76f9-4510-9927-d1cd99113699",
    "_uuid": "03f56ac9-c4e0-4b05-8ce3-0acee06ec415",
    "collapsed": false,
    "execution": {
     "iopub.execute_input": "2024-01-28T06:11:26.934466Z",
     "iopub.status.busy": "2024-01-28T06:11:26.934088Z",
     "iopub.status.idle": "2024-01-28T06:11:26.943072Z",
     "shell.execute_reply": "2024-01-28T06:11:26.941960Z"
    },
    "jupyter": {
     "outputs_hidden": false
    },
    "papermill": {
     "duration": 0.036044,
     "end_time": "2024-01-28T06:11:26.945713",
     "exception": false,
     "start_time": "2024-01-28T06:11:26.909669",
     "status": "completed"
    },
    "tags": []
   },
   "outputs": [
    {
     "name": "stdout",
     "output_type": "stream",
     "text": [
      "Number of churned customers who are active: 10297\n",
      "Number of non-churn customers who are active: 24624\n",
      "==> Number of non-churn customers who are active is higher than that of the churned customers.\n"
     ]
    }
   ],
   "source": [
    "count_activemember_churned = (churn_df['IsActiveMember'] == 1).sum()\n",
    "count_activemember_nonchurn = (churn_df['IsActiveMember'] == 0).sum()\n",
    "\n",
    "print(\"Number of churned customers who are active:\", count_activemember_churned)\n",
    "print(\"Number of non-churn customers who are active:\", count_activemember_nonchurn)\n",
    "\n",
    "if count_activemember_churned > count_activemember_nonchurn:\n",
    "    print(\"==> Number of churned customers who are active is higher than that of the non-churn customers.\")\n",
    "elif count_activemember_churned < count_activemember_nonchurn:\n",
    "    print(\"==> Number of non-churn customers who are active is higher than that of the churned customers.\")\n",
    "else:\n",
    "    print(\"==> Number of churned customers who are active is equal to the average age of non-churn customers.\")"
   ]
  },
  {
   "cell_type": "code",
   "execution_count": 24,
   "id": "0a5e742d",
   "metadata": {
    "_cell_guid": "b0299fd1-e125-4e61-b2e1-a2ffb53c6a9d",
    "_uuid": "4fa1c0fd-40c4-4419-b4b1-ca0f136faada",
    "collapsed": false,
    "execution": {
     "iopub.execute_input": "2024-01-28T06:11:26.993369Z",
     "iopub.status.busy": "2024-01-28T06:11:26.992978Z",
     "iopub.status.idle": "2024-01-28T06:11:27.028907Z",
     "shell.execute_reply": "2024-01-28T06:11:27.027558Z"
    },
    "jupyter": {
     "outputs_hidden": false
    },
    "papermill": {
     "duration": 0.062907,
     "end_time": "2024-01-28T06:11:27.031416",
     "exception": false,
     "start_time": "2024-01-28T06:11:26.968509",
     "status": "completed"
    },
    "tags": []
   },
   "outputs": [
    {
     "data": {
      "text/plain": [
       "Geography\n",
       "France     94215\n",
       "Spain      36213\n",
       "Germany    34606\n",
       "Name: count, dtype: int64"
      ]
     },
     "execution_count": 24,
     "metadata": {},
     "output_type": "execute_result"
    }
   ],
   "source": [
    "#inspecting the \"Geogrpahy\" categorical feature\n",
    "traindf['Geography'].value_counts()"
   ]
  },
  {
   "cell_type": "markdown",
   "id": "2f07ac88",
   "metadata": {
    "papermill": {
     "duration": 0.022756,
     "end_time": "2024-01-28T06:11:27.077817",
     "exception": false,
     "start_time": "2024-01-28T06:11:27.055061",
     "status": "completed"
    },
    "tags": []
   },
   "source": [
    "### **Churned Customers Vs Gender and Country**"
   ]
  },
  {
   "cell_type": "code",
   "execution_count": 25,
   "id": "db437b82",
   "metadata": {
    "_cell_guid": "f75c3cba-d147-4df7-ae3e-1e0773631ede",
    "_uuid": "81f60cbf-2301-4d09-96ef-4970b8a929bf",
    "collapsed": false,
    "execution": {
     "iopub.execute_input": "2024-01-28T06:11:27.125875Z",
     "iopub.status.busy": "2024-01-28T06:11:27.125432Z",
     "iopub.status.idle": "2024-01-28T06:11:27.560483Z",
     "shell.execute_reply": "2024-01-28T06:11:27.559316Z"
    },
    "jupyter": {
     "outputs_hidden": false
    },
    "papermill": {
     "duration": 0.462711,
     "end_time": "2024-01-28T06:11:27.563431",
     "exception": false,
     "start_time": "2024-01-28T06:11:27.100720",
     "status": "completed"
    },
    "tags": []
   },
   "outputs": [
    {
     "data": {
      "image/png": "[encoded data removed]",
      "text/plain": [
       "<Figure size 640x480 with 1 Axes>"
      ]
     },
     "metadata": {},
     "output_type": "display_data"
    }
   ],
   "source": [
    "churn_by_country_gender = churn_df.groupby(['Geography', 'Gender']).size().unstack()\n",
    "\n",
    "churn_by_country_gender.plot(kind='bar', stacked=True)\n",
    "plt.title('Churned Customers by Gender and Country')\n",
    "plt.xlabel('Country')\n",
    "plt.ylabel('Number of Churned Customers')\n",
    "plt.xticks(rotation=0)\n",
    "plt.legend(title='Gender')\n",
    "plt.show()"
   ]
  },
  {
   "cell_type": "markdown",
   "id": "fc5ecbc2",
   "metadata": {
    "papermill": {
     "duration": 0.02597,
     "end_time": "2024-01-28T06:11:27.613035",
     "exception": false,
     "start_time": "2024-01-28T06:11:27.587065",
     "status": "completed"
    },
    "tags": []
   },
   "source": [
    "### **Estimated Salary Vs Gender**"
   ]
  },
  {
   "cell_type": "code",
   "execution_count": 26,
   "id": "c11837c9",
   "metadata": {
    "_cell_guid": "d45cb5dc-a8d9-4edc-bae3-7cf97f38f08a",
    "_uuid": "5c450ab9-275a-464c-9862-dee3de83097e",
    "collapsed": false,
    "execution": {
     "iopub.execute_input": "2024-01-28T06:11:27.678424Z",
     "iopub.status.busy": "2024-01-28T06:11:27.677484Z",
     "iopub.status.idle": "2024-01-28T06:11:27.906707Z",
     "shell.execute_reply": "2024-01-28T06:11:27.905546Z"
    },
    "jupyter": {
     "outputs_hidden": false
    },
    "papermill": {
     "duration": 0.265307,
     "end_time": "2024-01-28T06:11:27.909478",
     "exception": false,
     "start_time": "2024-01-28T06:11:27.644171",
     "status": "completed"
    },
    "tags": []
   },
   "outputs": [
    {
     "data": {
      "image/png": "[encoded data removed]",
      "text/plain": [
       "<Figure size 640x480 with 1 Axes>"
      ]
     },
     "metadata": {},
     "output_type": "display_data"
    }
   ],
   "source": [
    "avg_salary_by_gender = traindf.groupby('Gender')['EstimatedSalary'].mean()\n",
    "\n",
    "avg_salary_by_gender.plot(kind='bar', color=['darkred', 'darkblue'])\n",
    "plt.title('Average Estimated Salary by Gender')\n",
    "plt.xlabel('Gender')\n",
    "plt.ylabel('Average Estimated Salary')\n",
    "plt.xticks(rotation=0)\n",
    "plt.show()"
   ]
  },
  {
   "cell_type": "markdown",
   "id": "b4eef77e",
   "metadata": {
    "papermill": {
     "duration": 0.0299,
     "end_time": "2024-01-28T06:11:27.963901",
     "exception": false,
     "start_time": "2024-01-28T06:11:27.934001",
     "status": "completed"
    },
    "tags": []
   },
   "source": [
    "### **Active Members Vs Gender**"
   ]
  },
  {
   "cell_type": "code",
   "execution_count": 27,
   "id": "f7c188cb",
   "metadata": {
    "_cell_guid": "cf5d038f-ca36-4e63-aeda-9bff4b322a18",
    "_uuid": "27970646-5195-4404-8833-32424319b994",
    "collapsed": false,
    "execution": {
     "iopub.execute_input": "2024-01-28T06:11:28.020008Z",
     "iopub.status.busy": "2024-01-28T06:11:28.019596Z",
     "iopub.status.idle": "2024-01-28T06:11:28.306003Z",
     "shell.execute_reply": "2024-01-28T06:11:28.304851Z"
    },
    "jupyter": {
     "outputs_hidden": false
    },
    "papermill": {
     "duration": 0.318088,
     "end_time": "2024-01-28T06:11:28.309021",
     "exception": false,
     "start_time": "2024-01-28T06:11:27.990933",
     "status": "completed"
    },
    "tags": []
   },
   "outputs": [
    {
     "data": {
      "image/png": "[encoded data removed]",
      "text/plain": [
       "<Figure size 640x480 with 1 Axes>"
      ]
     },
     "metadata": {},
     "output_type": "display_data"
    }
   ],
   "source": [
    "active_members_by_gender = traindf.groupby('Gender')['IsActiveMember'].sum()\n",
    "\n",
    "active_members_by_gender.plot(kind='bar', color=['darkred', 'darkblue'])\n",
    "plt.title('Number of Active Members by Gender')\n",
    "plt.xlabel('Gender')\n",
    "plt.ylabel('Number of Active Members')\n",
    "plt.xticks(rotation=0)\n",
    "plt.show()"
   ]
  },
  {
   "cell_type": "markdown",
   "id": "37e83f64",
   "metadata": {
    "papermill": {
     "duration": 0.024478,
     "end_time": "2024-01-28T06:11:28.358679",
     "exception": false,
     "start_time": "2024-01-28T06:11:28.334201",
     "status": "completed"
    },
    "tags": []
   },
   "source": [
    "### **Credit Cards Vs Gender**"
   ]
  },
  {
   "cell_type": "code",
   "execution_count": 28,
   "id": "12b0e96d",
   "metadata": {
    "_cell_guid": "894240a6-6d5c-4c03-9516-eef027838aa1",
    "_uuid": "a3751f04-22d8-45b4-a873-7ea91c966af7",
    "collapsed": false,
    "execution": {
     "iopub.execute_input": "2024-01-28T06:11:28.410169Z",
     "iopub.status.busy": "2024-01-28T06:11:28.409647Z",
     "iopub.status.idle": "2024-01-28T06:11:28.714980Z",
     "shell.execute_reply": "2024-01-28T06:11:28.713787Z"
    },
    "jupyter": {
     "outputs_hidden": false
    },
    "papermill": {
     "duration": 0.33392,
     "end_time": "2024-01-28T06:11:28.717512",
     "exception": false,
     "start_time": "2024-01-28T06:11:28.383592",
     "status": "completed"
    },
    "tags": []
   },
   "outputs": [
    {
     "data": {
      "image/png": "[encoded data removed]",
      "text/plain": [
       "<Figure size 640x480 with 1 Axes>"
      ]
     },
     "metadata": {},
     "output_type": "display_data"
    }
   ],
   "source": [
    "avg_credit_cards_by_gender = traindf.groupby('Gender')['HasCrCard'].mean()\n",
    "\n",
    "ax = avg_credit_cards_by_gender.plot(kind='bar', color=['darkred', 'darkblue'])\n",
    "plt.title('Average Number of Credit Cards by Gender')\n",
    "plt.xlabel('Gender')\n",
    "plt.ylabel('Average Number of Credit Cards')\n",
    "plt.xticks(rotation=0)\n",
    "\n",
    "for i, val in enumerate(avg_credit_cards_by_gender):\n",
    "    ax.text(i, val, str(round(val, 2)), ha='center', va='bottom')\n",
    "    \n",
    "plt.show()"
   ]
  },
  {
   "cell_type": "markdown",
   "id": "94ebcc39",
   "metadata": {
    "papermill": {
     "duration": 0.025391,
     "end_time": "2024-01-28T06:11:28.768394",
     "exception": false,
     "start_time": "2024-01-28T06:11:28.743003",
     "status": "completed"
    },
    "tags": []
   },
   "source": [
    "### **Age Vs Gender**"
   ]
  },
  {
   "cell_type": "code",
   "execution_count": 29,
   "id": "28585f4c",
   "metadata": {
    "_cell_guid": "acf9abfd-864d-4024-a174-62b4e06182a1",
    "_uuid": "0b2f8ed9-955f-4861-9d06-74ad549b1367",
    "collapsed": false,
    "execution": {
     "iopub.execute_input": "2024-01-28T06:11:28.820662Z",
     "iopub.status.busy": "2024-01-28T06:11:28.820232Z",
     "iopub.status.idle": "2024-01-28T06:11:29.132160Z",
     "shell.execute_reply": "2024-01-28T06:11:29.130876Z"
    },
    "jupyter": {
     "outputs_hidden": false
    },
    "papermill": {
     "duration": 0.341194,
     "end_time": "2024-01-28T06:11:29.134594",
     "exception": false,
     "start_time": "2024-01-28T06:11:28.793400",
     "status": "completed"
    },
    "tags": []
   },
   "outputs": [
    {
     "data": {
      "image/png": "[encoded data removed]",
      "text/plain": [
       "<Figure size 640x480 with 1 Axes>"
      ]
     },
     "metadata": {},
     "output_type": "display_data"
    }
   ],
   "source": [
    "avg_age_by_gender = traindf.groupby('Gender')['Age'].mean()\n",
    "\n",
    "ax = avg_age_by_gender.plot(kind='bar', color=['darkred', 'darkblue'])\n",
    "plt.title('Average Age by Gender')\n",
    "plt.xlabel('Gender')\n",
    "plt.ylabel('Average Age')\n",
    "plt.xticks(rotation=0)\n",
    "\n",
    "for i, val in enumerate(avg_age_by_gender):\n",
    "    ax.text(i, val, str(round(val, 2)), ha='center', va='bottom')\n",
    "    \n",
    "plt.show()"
   ]
  },
  {
   "cell_type": "markdown",
   "id": "ab680a28",
   "metadata": {
    "papermill": {
     "duration": 0.02529,
     "end_time": "2024-01-28T06:11:29.185202",
     "exception": false,
     "start_time": "2024-01-28T06:11:29.159912",
     "status": "completed"
    },
    "tags": []
   },
   "source": [
    "## **Feature Engineering**"
   ]
  },
  {
   "cell_type": "code",
   "execution_count": 30,
   "id": "03bde639",
   "metadata": {
    "_cell_guid": "cbcca218-0bf5-4de8-8dda-5c5e8109c5d0",
    "_uuid": "b47a874a-0cdf-448f-9ebc-3a0e5c8bef2a",
    "collapsed": false,
    "execution": {
     "iopub.execute_input": "2024-01-28T06:11:29.239943Z",
     "iopub.status.busy": "2024-01-28T06:11:29.239247Z",
     "iopub.status.idle": "2024-01-28T06:11:29.248667Z",
     "shell.execute_reply": "2024-01-28T06:11:29.247227Z"
    },
    "jupyter": {
     "outputs_hidden": false
    },
    "papermill": {
     "duration": 0.039728,
     "end_time": "2024-01-28T06:11:29.251543",
     "exception": false,
     "start_time": "2024-01-28T06:11:29.211815",
     "status": "completed"
    },
    "tags": []
   },
   "outputs": [],
   "source": [
    "#interaction features\n",
    "traindf['Balance_Products'] = traindf['Balance'] * traindf['NumOfProducts']\n",
    "traindf['Tenure_Age_Ratio'] = traindf['Tenure'] / traindf['Age']"
   ]
  },
  {
   "cell_type": "code",
   "execution_count": 31,
   "id": "1dc1d76a",
   "metadata": {
    "execution": {
     "iopub.execute_input": "2024-01-28T06:11:29.306146Z",
     "iopub.status.busy": "2024-01-28T06:11:29.305754Z",
     "iopub.status.idle": "2024-01-28T06:11:29.313843Z",
     "shell.execute_reply": "2024-01-28T06:11:29.312392Z"
    },
    "papermill": {
     "duration": 0.038269,
     "end_time": "2024-01-28T06:11:29.316585",
     "exception": false,
     "start_time": "2024-01-28T06:11:29.278316",
     "status": "completed"
    },
    "tags": []
   },
   "outputs": [],
   "source": [
    "testdf['Balance_Products'] = testdf['Balance'] * testdf['NumOfProducts']\n",
    "testdf['Tenure_Age_Ratio'] = testdf['Tenure'] / testdf['Age']"
   ]
  },
  {
   "cell_type": "code",
   "execution_count": 32,
   "id": "8bab8f96",
   "metadata": {
    "_cell_guid": "ebcf0917-fd15-40e9-8393-1a6c646ebfcd",
    "_uuid": "54e081dc-20a2-4d8c-93e9-d615faab35b7",
    "collapsed": false,
    "execution": {
     "iopub.execute_input": "2024-01-28T06:11:29.369688Z",
     "iopub.status.busy": "2024-01-28T06:11:29.369256Z",
     "iopub.status.idle": "2024-01-28T06:11:29.390090Z",
     "shell.execute_reply": "2024-01-28T06:11:29.388802Z"
    },
    "jupyter": {
     "outputs_hidden": false
    },
    "papermill": {
     "duration": 0.050595,
     "end_time": "2024-01-28T06:11:29.392864",
     "exception": false,
     "start_time": "2024-01-28T06:11:29.342269",
     "status": "completed"
    },
    "tags": []
   },
   "outputs": [],
   "source": [
    "#creditscore and age binning age\n",
    "bins = [0, 30, 40, 50, 60, float('inf')]\n",
    "labels = ['0-30', '31-40', '41-50', '51-60', '60+']\n",
    "traindf['Age_Binned'] = pd.cut(traindf['Age'], bins=bins, labels=labels)\n",
    "\n",
    "bins = [0, 500, 600, 700, 800, float('inf')]\n",
    "labels = ['0-500', '501-600', '601-700', '701-800', '800+']\n",
    "traindf['CreditScore_Binned'] = pd.cut(traindf['CreditScore'], bins=bins, labels=labels)"
   ]
  },
  {
   "cell_type": "code",
   "execution_count": 33,
   "id": "19853dc9",
   "metadata": {
    "_cell_guid": "45b8fa40-77e4-4e7a-8503-ad2578150471",
    "_uuid": "865566fe-a411-498a-82a9-d111c0f50bfc",
    "collapsed": false,
    "execution": {
     "iopub.execute_input": "2024-01-28T06:11:29.445652Z",
     "iopub.status.busy": "2024-01-28T06:11:29.445232Z",
     "iopub.status.idle": "2024-01-28T06:11:29.468089Z",
     "shell.execute_reply": "2024-01-28T06:11:29.467130Z"
    },
    "jupyter": {
     "outputs_hidden": false
    },
    "papermill": {
     "duration": 0.052383,
     "end_time": "2024-01-28T06:11:29.470657",
     "exception": false,
     "start_time": "2024-01-28T06:11:29.418274",
     "status": "completed"
    },
    "tags": []
   },
   "outputs": [],
   "source": [
    "#irrelevant columns\n",
    "traindf = traindf.drop(columns=['id', 'CustomerId', 'Surname'])"
   ]
  },
  {
   "cell_type": "code",
   "execution_count": 34,
   "id": "a12cdb5d",
   "metadata": {
    "_cell_guid": "2c6a17c4-3990-44d9-bc57-e3d47357c43f",
    "_uuid": "c22b3a6a-93d3-4065-a38c-d18c86eb7e55",
    "collapsed": false,
    "execution": {
     "iopub.execute_input": "2024-01-28T06:11:29.525432Z",
     "iopub.status.busy": "2024-01-28T06:11:29.524192Z",
     "iopub.status.idle": "2024-01-28T06:11:29.545230Z",
     "shell.execute_reply": "2024-01-28T06:11:29.543843Z"
    },
    "jupyter": {
     "outputs_hidden": false
    },
    "papermill": {
     "duration": 0.051407,
     "end_time": "2024-01-28T06:11:29.547986",
     "exception": false,
     "start_time": "2024-01-28T06:11:29.496579",
     "status": "completed"
    },
    "tags": []
   },
   "outputs": [],
   "source": [
    "#separating target variables\n",
    "X = traindf.drop(\"Exited\", axis=1)\n",
    "y = traindf[\"Exited\"]"
   ]
  },
  {
   "cell_type": "code",
   "execution_count": 35,
   "id": "18014473",
   "metadata": {
    "_cell_guid": "585a4a94-34c3-4953-b132-f1f2a9f88960",
    "_uuid": "752191b1-bc85-4b40-b55e-7664ea08535a",
    "collapsed": false,
    "execution": {
     "iopub.execute_input": "2024-01-28T06:11:29.601269Z",
     "iopub.status.busy": "2024-01-28T06:11:29.600821Z",
     "iopub.status.idle": "2024-01-28T06:11:29.633143Z",
     "shell.execute_reply": "2024-01-28T06:11:29.631856Z"
    },
    "jupyter": {
     "outputs_hidden": false
    },
    "papermill": {
     "duration": 0.062203,
     "end_time": "2024-01-28T06:11:29.636156",
     "exception": false,
     "start_time": "2024-01-28T06:11:29.573953",
     "status": "completed"
    },
    "tags": []
   },
   "outputs": [],
   "source": [
    "#numerical and categorical features\n",
    "numeric = X.select_dtypes(include=['int64', 'float64']).columns\n",
    "categorical = X.select_dtypes(include=['object']).columns"
   ]
  },
  {
   "cell_type": "code",
   "execution_count": 36,
   "id": "c58a5599",
   "metadata": {
    "_cell_guid": "0601f7af-4ea9-4bc7-99f1-a489e2206cc4",
    "_uuid": "d4325093-e38b-410c-a98d-3d645a06c7a5",
    "collapsed": false,
    "execution": {
     "iopub.execute_input": "2024-01-28T06:11:29.689084Z",
     "iopub.status.busy": "2024-01-28T06:11:29.688646Z",
     "iopub.status.idle": "2024-01-28T06:11:29.694640Z",
     "shell.execute_reply": "2024-01-28T06:11:29.693744Z"
    },
    "jupyter": {
     "outputs_hidden": false
    },
    "papermill": {
     "duration": 0.035228,
     "end_time": "2024-01-28T06:11:29.696972",
     "exception": false,
     "start_time": "2024-01-28T06:11:29.661744",
     "status": "completed"
    },
    "tags": []
   },
   "outputs": [],
   "source": [
    "#transformer for numerical and categorical features\n",
    "numeric_transformer = Pipeline(steps=[\n",
    "    ('imputer', SimpleImputer(strategy='mean')),\n",
    "    ('scaler', StandardScaler())\n",
    "])\n",
    "\n",
    "categorical_transformer = Pipeline(steps=[\n",
    "    ('imputer', SimpleImputer(strategy='most_frequent')),\n",
    "    ('onehot', OneHotEncoder(handle_unknown='ignore'))\n",
    "])"
   ]
  },
  {
   "cell_type": "code",
   "execution_count": 37,
   "id": "37861b84",
   "metadata": {
    "_cell_guid": "23be9350-a86b-4ce1-8bd6-090f091557e9",
    "_uuid": "9c9e5772-9d75-45ab-bf9f-e7a128ae3e2b",
    "collapsed": false,
    "execution": {
     "iopub.execute_input": "2024-01-28T06:11:29.751458Z",
     "iopub.status.busy": "2024-01-28T06:11:29.750827Z",
     "iopub.status.idle": "2024-01-28T06:11:29.756039Z",
     "shell.execute_reply": "2024-01-28T06:11:29.754895Z"
    },
    "jupyter": {
     "outputs_hidden": false
    },
    "papermill": {
     "duration": 0.03552,
     "end_time": "2024-01-28T06:11:29.758642",
     "exception": false,
     "start_time": "2024-01-28T06:11:29.723122",
     "status": "completed"
    },
    "tags": []
   },
   "outputs": [],
   "source": [
    "#combining the features\n",
    "preprocessor = ColumnTransformer(\n",
    "    transformers=[\n",
    "        ('num', numeric_transformer, numeric),\n",
    "        ('cat', categorical_transformer, categorical)\n",
    "    ])"
   ]
  },
  {
   "cell_type": "code",
   "execution_count": 38,
   "id": "b99ebcb7",
   "metadata": {
    "_cell_guid": "1bdc9376-c250-4085-9a2b-7b988a9b3694",
    "_uuid": "c4df032e-d878-41e5-922c-a6f065ffa6cc",
    "collapsed": false,
    "execution": {
     "iopub.execute_input": "2024-01-28T06:11:29.811517Z",
     "iopub.status.busy": "2024-01-28T06:11:29.811109Z",
     "iopub.status.idle": "2024-01-28T06:11:29.816581Z",
     "shell.execute_reply": "2024-01-28T06:11:29.815341Z"
    },
    "jupyter": {
     "outputs_hidden": false
    },
    "papermill": {
     "duration": 0.034939,
     "end_time": "2024-01-28T06:11:29.819013",
     "exception": false,
     "start_time": "2024-01-28T06:11:29.784074",
     "status": "completed"
    },
    "tags": []
   },
   "outputs": [],
   "source": [
    "#pipeline with the regression model\n",
    "model = Pipeline(steps=[\n",
    "    ('preprocessor', preprocessor),\n",
    "    ('classifier', LogisticRegression(random_state=42))\n",
    "])"
   ]
  },
  {
   "cell_type": "code",
   "execution_count": 39,
   "id": "1ddf5405",
   "metadata": {
    "_cell_guid": "10af38d2-2987-47a2-b389-779a017f0f14",
    "_uuid": "19918e1f-ae26-438a-bab7-82f62cf8311a",
    "collapsed": false,
    "execution": {
     "iopub.execute_input": "2024-01-28T06:11:29.871422Z",
     "iopub.status.busy": "2024-01-28T06:11:29.871033Z",
     "iopub.status.idle": "2024-01-28T06:11:29.930294Z",
     "shell.execute_reply": "2024-01-28T06:11:29.928957Z"
    },
    "jupyter": {
     "outputs_hidden": false
    },
    "papermill": {
     "duration": 0.08892,
     "end_time": "2024-01-28T06:11:29.933269",
     "exception": false,
     "start_time": "2024-01-28T06:11:29.844349",
     "status": "completed"
    },
    "tags": []
   },
   "outputs": [],
   "source": [
    "#splitting the dataset\n",
    "X_train, X_test, y_train, y_test = train_test_split(X, y, test_size=0.2, random_state=42)"
   ]
  },
  {
   "cell_type": "code",
   "execution_count": 40,
   "id": "148b4458",
   "metadata": {
    "_cell_guid": "f209c2ec-78d7-4068-b3c9-d80438b5c58a",
    "_uuid": "6b9e193d-9e36-4cfa-901f-ed0fa698e5b1",
    "collapsed": false,
    "execution": {
     "iopub.execute_input": "2024-01-28T06:11:29.986216Z",
     "iopub.status.busy": "2024-01-28T06:11:29.985810Z",
     "iopub.status.idle": "2024-01-28T06:11:30.811557Z",
     "shell.execute_reply": "2024-01-28T06:11:30.810391Z"
    },
    "jupyter": {
     "outputs_hidden": false
    },
    "papermill": {
     "duration": 0.855934,
     "end_time": "2024-01-28T06:11:30.814438",
     "exception": false,
     "start_time": "2024-01-28T06:11:29.958504",
     "status": "completed"
    },
    "tags": []
   },
   "outputs": [
    {
     "data": {
      "text/html": [
       "<style>#sk-container-id-1 {color: black;background-color: white;}#sk-container-id-1 pre{padding: 0;}#sk-container-id-1 div.sk-toggleable {background-color: white;}#sk-container-id-1 label.sk-toggleable__label {cursor: pointer;display: block;width: 100%;margin-bottom: 0;padding: 0.3em;box-sizing: border-box;text-align: center;}#sk-container-id-1 label.sk-toggleable__label-arrow:before {content: \"▸\";float: left;margin-right: 0.25em;color: #696969;}#sk-container-id-1 label.sk-toggleable__label-arrow:hover:before {color: black;}#sk-container-id-1 div.sk-estimator:hover label.sk-toggleable__label-arrow:before {color: black;}#sk-container-id-1 div.sk-toggleable__content {max-height: 0;max-width: 0;overflow: hidden;text-align: left;background-color: #f0f8ff;}#sk-container-id-1 div.sk-toggleable__content pre {margin: 0.2em;color: black;border-radius: 0.25em;background-color: #f0f8ff;}#sk-container-id-1 input.sk-toggleable__control:checked~div.sk-toggleable__content {max-height: 200px;max-width: 100%;overflow: auto;}#sk-container-id-1 input.sk-toggleable__control:checked~label.sk-toggleable__label-arrow:before {content: \"▾\";}#sk-container-id-1 div.sk-estimator input.sk-toggleable__control:checked~label.sk-toggleable__label {background-color: #d4ebff;}#sk-container-id-1 div.sk-label input.sk-toggleable__control:checked~label.sk-toggleable__label {background-color: #d4ebff;}#sk-container-id-1 input.sk-hidden--visually {border: 0;clip: rect(1px 1px 1px 1px);clip: rect(1px, 1px, 1px, 1px);height: 1px;margin: -1px;overflow: hidden;padding: 0;position: absolute;width: 1px;}#sk-container-id-1 div.sk-estimator {font-family: monospace;background-color: #f0f8ff;border: 1px dotted black;border-radius: 0.25em;box-sizing: border-box;margin-bottom: 0.5em;}#sk-container-id-1 div.sk-estimator:hover {background-color: #d4ebff;}#sk-container-id-1 div.sk-parallel-item::after {content: \"\";width: 100%;border-bottom: 1px solid gray;flex-grow: 1;}#sk-container-id-1 div.sk-label:hover label.sk-toggleable__label {background-color: #d4ebff;}#sk-container-id-1 div.sk-serial::before {content: \"\";position: absolute;border-left: 1px solid gray;box-sizing: border-box;top: 0;bottom: 0;left: 50%;z-index: 0;}#sk-container-id-1 div.sk-serial {display: flex;flex-direction: column;align-items: center;background-color: white;padding-right: 0.2em;padding-left: 0.2em;position: relative;}#sk-container-id-1 div.sk-item {position: relative;z-index: 1;}#sk-container-id-1 div.sk-parallel {display: flex;align-items: stretch;justify-content: center;background-color: white;position: relative;}#sk-container-id-1 div.sk-item::before, #sk-container-id-1 div.sk-parallel-item::before {content: \"\";position: absolute;border-left: 1px solid gray;box-sizing: border-box;top: 0;bottom: 0;left: 50%;z-index: -1;}#sk-container-id-1 div.sk-parallel-item {display: flex;flex-direction: column;z-index: 1;position: relative;background-color: white;}#sk-container-id-1 div.sk-parallel-item:first-child::after {align-self: flex-end;width: 50%;}#sk-container-id-1 div.sk-parallel-item:last-child::after {align-self: flex-start;width: 50%;}#sk-container-id-1 div.sk-parallel-item:only-child::after {width: 0;}#sk-container-id-1 div.sk-dashed-wrapped {border: 1px dashed gray;margin: 0 0.4em 0.5em 0.4em;box-sizing: border-box;padding-bottom: 0.4em;background-color: white;}#sk-container-id-1 div.sk-label label {font-family: monospace;font-weight: bold;display: inline-block;line-height: 1.2em;}#sk-container-id-1 div.sk-label-container {text-align: center;}#sk-container-id-1 div.sk-container {/* jupyter's `normalize.less` sets `[hidden] { display: none; }` but bootstrap.min.css set `[hidden] { display: none !important; }` so we also need the `!important` here to be able to override the default hidden behavior on the sphinx rendered scikit-learn.org. See: https://github.com/scikit-learn/scikit-learn/issues/21755 */display: inline-block !important;position: relative;}#sk-container-id-1 div.sk-text-repr-fallback {display: none;}</style><div id=\"sk-container-id-1\" class=\"sk-top-container\"><div class=\"sk-text-repr-fallback\"><pre>Pipeline(steps=[(&#x27;preprocessor&#x27;,\n",
       "                 ColumnTransformer(transformers=[(&#x27;num&#x27;,\n",
       "                                                  Pipeline(steps=[(&#x27;imputer&#x27;,\n",
       "                                                                   SimpleImputer()),\n",
       "                                                                  (&#x27;scaler&#x27;,\n",
       "                                                                   StandardScaler())]),\n",
       "                                                  Index([&#x27;CreditScore&#x27;, &#x27;Age&#x27;, &#x27;Tenure&#x27;, &#x27;Balance&#x27;, &#x27;NumOfProducts&#x27;, &#x27;HasCrCard&#x27;,\n",
       "       &#x27;IsActiveMember&#x27;, &#x27;EstimatedSalary&#x27;, &#x27;Balance_Products&#x27;,\n",
       "       &#x27;Tenure_Age_Ratio&#x27;],\n",
       "      dtype=&#x27;object&#x27;)),\n",
       "                                                 (&#x27;cat&#x27;,\n",
       "                                                  Pipeline(steps=[(&#x27;imputer&#x27;,\n",
       "                                                                   SimpleImputer(strategy=&#x27;most_frequent&#x27;)),\n",
       "                                                                  (&#x27;onehot&#x27;,\n",
       "                                                                   OneHotEncoder(handle_unknown=&#x27;ignore&#x27;))]),\n",
       "                                                  Index([&#x27;Geography&#x27;, &#x27;Gender&#x27;], dtype=&#x27;object&#x27;))])),\n",
       "                (&#x27;classifier&#x27;, LogisticRegression(random_state=42))])</pre><b>In a Jupyter environment, please rerun this cell to show the HTML representation or trust the notebook. <br />On GitHub, the HTML representation is unable to render, please try loading this page with nbviewer.org.</b></div><div class=\"sk-container\" hidden><div class=\"sk-item sk-dashed-wrapped\"><div class=\"sk-label-container\"><div class=\"sk-label sk-toggleable\"><input class=\"sk-toggleable__control sk-hidden--visually\" id=\"sk-estimator-id-1\" type=\"checkbox\" ><label for=\"sk-estimator-id-1\" class=\"sk-toggleable__label sk-toggleable__label-arrow\">Pipeline</label><div class=\"sk-toggleable__content\"><pre>Pipeline(steps=[(&#x27;preprocessor&#x27;,\n",
       "                 ColumnTransformer(transformers=[(&#x27;num&#x27;,\n",
       "                                                  Pipeline(steps=[(&#x27;imputer&#x27;,\n",
       "                                                                   SimpleImputer()),\n",
       "                                                                  (&#x27;scaler&#x27;,\n",
       "                                                                   StandardScaler())]),\n",
       "                                                  Index([&#x27;CreditScore&#x27;, &#x27;Age&#x27;, &#x27;Tenure&#x27;, &#x27;Balance&#x27;, &#x27;NumOfProducts&#x27;, &#x27;HasCrCard&#x27;,\n",
       "       &#x27;IsActiveMember&#x27;, &#x27;EstimatedSalary&#x27;, &#x27;Balance_Products&#x27;,\n",
       "       &#x27;Tenure_Age_Ratio&#x27;],\n",
       "      dtype=&#x27;object&#x27;)),\n",
       "                                                 (&#x27;cat&#x27;,\n",
       "                                                  Pipeline(steps=[(&#x27;imputer&#x27;,\n",
       "                                                                   SimpleImputer(strategy=&#x27;most_frequent&#x27;)),\n",
       "                                                                  (&#x27;onehot&#x27;,\n",
       "                                                                   OneHotEncoder(handle_unknown=&#x27;ignore&#x27;))]),\n",
       "                                                  Index([&#x27;Geography&#x27;, &#x27;Gender&#x27;], dtype=&#x27;object&#x27;))])),\n",
       "                (&#x27;classifier&#x27;, LogisticRegression(random_state=42))])</pre></div></div></div><div class=\"sk-serial\"><div class=\"sk-item sk-dashed-wrapped\"><div class=\"sk-label-container\"><div class=\"sk-label sk-toggleable\"><input class=\"sk-toggleable__control sk-hidden--visually\" id=\"sk-estimator-id-2\" type=\"checkbox\" ><label for=\"sk-estimator-id-2\" class=\"sk-toggleable__label sk-toggleable__label-arrow\">preprocessor: ColumnTransformer</label><div class=\"sk-toggleable__content\"><pre>ColumnTransformer(transformers=[(&#x27;num&#x27;,\n",
       "                                 Pipeline(steps=[(&#x27;imputer&#x27;, SimpleImputer()),\n",
       "                                                 (&#x27;scaler&#x27;, StandardScaler())]),\n",
       "                                 Index([&#x27;CreditScore&#x27;, &#x27;Age&#x27;, &#x27;Tenure&#x27;, &#x27;Balance&#x27;, &#x27;NumOfProducts&#x27;, &#x27;HasCrCard&#x27;,\n",
       "       &#x27;IsActiveMember&#x27;, &#x27;EstimatedSalary&#x27;, &#x27;Balance_Products&#x27;,\n",
       "       &#x27;Tenure_Age_Ratio&#x27;],\n",
       "      dtype=&#x27;object&#x27;)),\n",
       "                                (&#x27;cat&#x27;,\n",
       "                                 Pipeline(steps=[(&#x27;imputer&#x27;,\n",
       "                                                  SimpleImputer(strategy=&#x27;most_frequent&#x27;)),\n",
       "                                                 (&#x27;onehot&#x27;,\n",
       "                                                  OneHotEncoder(handle_unknown=&#x27;ignore&#x27;))]),\n",
       "                                 Index([&#x27;Geography&#x27;, &#x27;Gender&#x27;], dtype=&#x27;object&#x27;))])</pre></div></div></div><div class=\"sk-parallel\"><div class=\"sk-parallel-item\"><div class=\"sk-item\"><div class=\"sk-label-container\"><div class=\"sk-label sk-toggleable\"><input class=\"sk-toggleable__control sk-hidden--visually\" id=\"sk-estimator-id-3\" type=\"checkbox\" ><label for=\"sk-estimator-id-3\" class=\"sk-toggleable__label sk-toggleable__label-arrow\">num</label><div class=\"sk-toggleable__content\"><pre>Index([&#x27;CreditScore&#x27;, &#x27;Age&#x27;, &#x27;Tenure&#x27;, &#x27;Balance&#x27;, &#x27;NumOfProducts&#x27;, &#x27;HasCrCard&#x27;,\n",
       "       &#x27;IsActiveMember&#x27;, &#x27;EstimatedSalary&#x27;, &#x27;Balance_Products&#x27;,\n",
       "       &#x27;Tenure_Age_Ratio&#x27;],\n",
       "      dtype=&#x27;object&#x27;)</pre></div></div></div><div class=\"sk-serial\"><div class=\"sk-item\"><div class=\"sk-serial\"><div class=\"sk-item\"><div class=\"sk-estimator sk-toggleable\"><input class=\"sk-toggleable__control sk-hidden--visually\" id=\"sk-estimator-id-4\" type=\"checkbox\" ><label for=\"sk-estimator-id-4\" class=\"sk-toggleable__label sk-toggleable__label-arrow\">SimpleImputer</label><div class=\"sk-toggleable__content\"><pre>SimpleImputer()</pre></div></div></div><div class=\"sk-item\"><div class=\"sk-estimator sk-toggleable\"><input class=\"sk-toggleable__control sk-hidden--visually\" id=\"sk-estimator-id-5\" type=\"checkbox\" ><label for=\"sk-estimator-id-5\" class=\"sk-toggleable__label sk-toggleable__label-arrow\">StandardScaler</label><div class=\"sk-toggleable__content\"><pre>StandardScaler()</pre></div></div></div></div></div></div></div></div><div class=\"sk-parallel-item\"><div class=\"sk-item\"><div class=\"sk-label-container\"><div class=\"sk-label sk-toggleable\"><input class=\"sk-toggleable__control sk-hidden--visually\" id=\"sk-estimator-id-6\" type=\"checkbox\" ><label for=\"sk-estimator-id-6\" class=\"sk-toggleable__label sk-toggleable__label-arrow\">cat</label><div class=\"sk-toggleable__content\"><pre>Index([&#x27;Geography&#x27;, &#x27;Gender&#x27;], dtype=&#x27;object&#x27;)</pre></div></div></div><div class=\"sk-serial\"><div class=\"sk-item\"><div class=\"sk-serial\"><div class=\"sk-item\"><div class=\"sk-estimator sk-toggleable\"><input class=\"sk-toggleable__control sk-hidden--visually\" id=\"sk-estimator-id-7\" type=\"checkbox\" ><label for=\"sk-estimator-id-7\" class=\"sk-toggleable__label sk-toggleable__label-arrow\">SimpleImputer</label><div class=\"sk-toggleable__content\"><pre>SimpleImputer(strategy=&#x27;most_frequent&#x27;)</pre></div></div></div><div class=\"sk-item\"><div class=\"sk-estimator sk-toggleable\"><input class=\"sk-toggleable__control sk-hidden--visually\" id=\"sk-estimator-id-8\" type=\"checkbox\" ><label for=\"sk-estimator-id-8\" class=\"sk-toggleable__label sk-toggleable__label-arrow\">OneHotEncoder</label><div class=\"sk-toggleable__content\"><pre>OneHotEncoder(handle_unknown=&#x27;ignore&#x27;)</pre></div></div></div></div></div></div></div></div></div></div><div class=\"sk-item\"><div class=\"sk-estimator sk-toggleable\"><input class=\"sk-toggleable__control sk-hidden--visually\" id=\"sk-estimator-id-9\" type=\"checkbox\" ><label for=\"sk-estimator-id-9\" class=\"sk-toggleable__label sk-toggleable__label-arrow\">LogisticRegression</label><div class=\"sk-toggleable__content\"><pre>LogisticRegression(random_state=42)</pre></div></div></div></div></div></div></div>"
      ],
      "text/plain": [
       "Pipeline(steps=[('preprocessor',\n",
       "                 ColumnTransformer(transformers=[('num',\n",
       "                                                  Pipeline(steps=[('imputer',\n",
       "                                                                   SimpleImputer()),\n",
       "                                                                  ('scaler',\n",
       "                                                                   StandardScaler())]),\n",
       "                                                  Index(['CreditScore', 'Age', 'Tenure', 'Balance', 'NumOfProducts', 'HasCrCard',\n",
       "       'IsActiveMember', 'EstimatedSalary', 'Balance_Products',\n",
       "       'Tenure_Age_Ratio'],\n",
       "      dtype='object')),\n",
       "                                                 ('cat',\n",
       "                                                  Pipeline(steps=[('imputer',\n",
       "                                                                   SimpleImputer(strategy='most_frequent')),\n",
       "                                                                  ('onehot',\n",
       "                                                                   OneHotEncoder(handle_unknown='ignore'))]),\n",
       "                                                  Index(['Geography', 'Gender'], dtype='object'))])),\n",
       "                ('classifier', LogisticRegression(random_state=42))])"
      ]
     },
     "execution_count": 40,
     "metadata": {},
     "output_type": "execute_result"
    }
   ],
   "source": [
    "#train the model\n",
    "model.fit(X_train, y_train)"
   ]
  },
  {
   "cell_type": "code",
   "execution_count": 41,
   "id": "e0e21609",
   "metadata": {
    "_cell_guid": "59deb74f-a248-44c6-a0eb-9ed60145903c",
    "_uuid": "81a5b853-25d2-4fc2-bd5b-aa430a476aea",
    "collapsed": false,
    "execution": {
     "iopub.execute_input": "2024-01-28T06:11:30.868961Z",
     "iopub.status.busy": "2024-01-28T06:11:30.868225Z",
     "iopub.status.idle": "2024-01-28T06:11:30.948021Z",
     "shell.execute_reply": "2024-01-28T06:11:30.946900Z"
    },
    "jupyter": {
     "outputs_hidden": false
    },
    "papermill": {
     "duration": 0.111469,
     "end_time": "2024-01-28T06:11:30.951880",
     "exception": false,
     "start_time": "2024-01-28T06:11:30.840411",
     "status": "completed"
    },
    "tags": []
   },
   "outputs": [
    {
     "name": "stdout",
     "output_type": "stream",
     "text": [
      "ROC AUC Score: 0.8318016623943949\n"
     ]
    }
   ],
   "source": [
    "#evaluating using ROC AUC\n",
    "y_pred_proba = model.predict_proba(X_test)[:, 1]  \n",
    "roc_auc = roc_auc_score(y_test, y_pred_proba)\n",
    "\n",
    "print(\"ROC AUC Score:\", roc_auc)"
   ]
  },
  {
   "cell_type": "code",
   "execution_count": 42,
   "id": "bb55f919",
   "metadata": {
    "execution": {
     "iopub.execute_input": "2024-01-28T06:11:31.052085Z",
     "iopub.status.busy": "2024-01-28T06:11:31.051695Z",
     "iopub.status.idle": "2024-01-28T06:11:31.191124Z",
     "shell.execute_reply": "2024-01-28T06:11:31.189143Z"
    },
    "papermill": {
     "duration": 0.189402,
     "end_time": "2024-01-28T06:11:31.196905",
     "exception": false,
     "start_time": "2024-01-28T06:11:31.007503",
     "status": "completed"
    },
    "tags": []
   },
   "outputs": [],
   "source": [
    "#predictions on test set\n",
    "test_predicts = model.predict_proba(testdf)[:, 1]"
   ]
  },
  {
   "cell_type": "code",
   "execution_count": 43,
   "id": "17c5e79c",
   "metadata": {
    "execution": {
     "iopub.execute_input": "2024-01-28T06:11:31.308024Z",
     "iopub.status.busy": "2024-01-28T06:11:31.307595Z",
     "iopub.status.idle": "2024-01-28T06:11:31.323559Z",
     "shell.execute_reply": "2024-01-28T06:11:31.322372Z"
    },
    "papermill": {
     "duration": 0.073049,
     "end_time": "2024-01-28T06:11:31.326228",
     "exception": false,
     "start_time": "2024-01-28T06:11:31.253179",
     "status": "completed"
    },
    "tags": []
   },
   "outputs": [
    {
     "data": {
      "text/html": [
       "<div>\n",
       "<style scoped>\n",
       "    .dataframe tbody tr th:only-of-type {\n",
       "        vertical-align: middle;\n",
       "    }\n",
       "\n",
       "    .dataframe tbody tr th {\n",
       "        vertical-align: top;\n",
       "    }\n",
       "\n",
       "    .dataframe thead th {\n",
       "        text-align: right;\n",
       "    }\n",
       "</style>\n",
       "<table border=\"1\" class=\"dataframe\">\n",
       "  <thead>\n",
       "    <tr style=\"text-align: right;\">\n",
       "      <th></th>\n",
       "      <th>id</th>\n",
       "      <th>Exited</th>\n",
       "    </tr>\n",
       "  </thead>\n",
       "  <tbody>\n",
       "    <tr>\n",
       "      <th>0</th>\n",
       "      <td>165034</td>\n",
       "      <td>0.018308</td>\n",
       "    </tr>\n",
       "    <tr>\n",
       "      <th>1</th>\n",
       "      <td>165035</td>\n",
       "      <td>0.665839</td>\n",
       "    </tr>\n",
       "    <tr>\n",
       "      <th>2</th>\n",
       "      <td>165036</td>\n",
       "      <td>0.109740</td>\n",
       "    </tr>\n",
       "    <tr>\n",
       "      <th>3</th>\n",
       "      <td>165037</td>\n",
       "      <td>0.281178</td>\n",
       "    </tr>\n",
       "    <tr>\n",
       "      <th>4</th>\n",
       "      <td>165038</td>\n",
       "      <td>0.366342</td>\n",
       "    </tr>\n",
       "    <tr>\n",
       "      <th>...</th>\n",
       "      <td>...</td>\n",
       "      <td>...</td>\n",
       "    </tr>\n",
       "    <tr>\n",
       "      <th>110018</th>\n",
       "      <td>275052</td>\n",
       "      <td>0.028644</td>\n",
       "    </tr>\n",
       "    <tr>\n",
       "      <th>110019</th>\n",
       "      <td>275053</td>\n",
       "      <td>0.072031</td>\n",
       "    </tr>\n",
       "    <tr>\n",
       "      <th>110020</th>\n",
       "      <td>275054</td>\n",
       "      <td>0.046921</td>\n",
       "    </tr>\n",
       "    <tr>\n",
       "      <th>110021</th>\n",
       "      <td>275055</td>\n",
       "      <td>0.144852</td>\n",
       "    </tr>\n",
       "    <tr>\n",
       "      <th>110022</th>\n",
       "      <td>275056</td>\n",
       "      <td>0.320854</td>\n",
       "    </tr>\n",
       "  </tbody>\n",
       "</table>\n",
       "<p>110023 rows × 2 columns</p>\n",
       "</div>"
      ],
      "text/plain": [
       "            id    Exited\n",
       "0       165034  0.018308\n",
       "1       165035  0.665839\n",
       "2       165036  0.109740\n",
       "3       165037  0.281178\n",
       "4       165038  0.366342\n",
       "...        ...       ...\n",
       "110018  275052  0.028644\n",
       "110019  275053  0.072031\n",
       "110020  275054  0.046921\n",
       "110021  275055  0.144852\n",
       "110022  275056  0.320854\n",
       "\n",
       "[110023 rows x 2 columns]"
      ]
     },
     "execution_count": 43,
     "metadata": {},
     "output_type": "execute_result"
    }
   ],
   "source": [
    "#submission file\n",
    "finaldf = pd.DataFrame({'id': testdf['id'], 'Exited': test_predicts})\n",
    "finaldf"
   ]
  },
  {
   "cell_type": "code",
   "execution_count": 44,
   "id": "718d2863",
   "metadata": {
    "execution": {
     "iopub.execute_input": "2024-01-28T06:11:31.383465Z",
     "iopub.status.busy": "2024-01-28T06:11:31.382659Z",
     "iopub.status.idle": "2024-01-28T06:11:31.874173Z",
     "shell.execute_reply": "2024-01-28T06:11:31.873040Z"
    },
    "papermill": {
     "duration": 0.523421,
     "end_time": "2024-01-28T06:11:31.877138",
     "exception": false,
     "start_time": "2024-01-28T06:11:31.353717",
     "status": "completed"
    },
    "tags": []
   },
   "outputs": [],
   "source": [
    "finaldf.to_csv('submission.csv', index=False)"
   ]
  }
 ],
 "metadata": {
  "kaggle": {
   "accelerator": "none",
   "dataSources": [
    {
     "databundleVersionId": 7405009,
     "sourceId": 65711,
     "sourceType": "competition"
    }
   ],
   "dockerImageVersionId": 30635,
   "isGpuEnabled": false,
   "isInternetEnabled": true,
   "language": "python",
   "sourceType": "notebook"
  },
  "kernelspec": {
   "display_name": "Python 3",
   "language": "python",
   "name": "python3"
  },
  "language_info": {
   "codemirror_mode": {
    "name": "ipython",
    "version": 3
   },
   "file_extension": ".py",
   "mimetype": "text/x-python",
   "name": "python",
   "nbconvert_exporter": "python",
   "pygments_lexer": "ipython3",
   "version": "3.10.12"
  },
  "papermill": {
   "default_parameters": {},
   "duration": 14.625547,
   "end_time": "2024-01-28T06:11:32.625918",
   "environment_variables": {},
   "exception": null,
   "input_path": "__notebook__.ipynb",
   "output_path": "__notebook__.ipynb",
   "parameters": {},
   "start_time": "2024-01-28T06:11:18.000371",
   "version": "2.4.0"
  }
 },
 "nbformat": 4,
 "nbformat_minor": 5
}
